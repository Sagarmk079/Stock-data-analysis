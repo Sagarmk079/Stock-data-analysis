{
 "cells": [
  {
   "cell_type": "code",
   "execution_count": 39,
   "metadata": {
    "execution": {
     "iopub.execute_input": "2021-06-22T08:37:14.957052Z",
     "iopub.status.busy": "2021-06-22T08:37:14.956650Z",
     "iopub.status.idle": "2021-06-22T08:37:14.965401Z",
     "shell.execute_reply": "2021-06-22T08:37:14.964448Z",
     "shell.execute_reply.started": "2021-06-22T08:37:14.957020Z"
    }
   },
   "outputs": [],
   "source": [
    "import numpy as np\n",
    "import pandas as pd\n",
    "\n",
    "import matplotlib.pyplot as plt\n",
    "import seaborn as sns\n",
    "%matplotlib inline\n",
    "\n",
    "from datetime import date"
   ]
  },
  {
   "cell_type": "code",
   "execution_count": 40,
   "metadata": {
    "execution": {
     "iopub.execute_input": "2021-06-22T08:37:15.432631Z",
     "iopub.status.busy": "2021-06-22T08:37:15.432160Z",
     "iopub.status.idle": "2021-06-22T08:37:15.468269Z",
     "shell.execute_reply": "2021-06-22T08:37:15.467299Z",
     "shell.execute_reply.started": "2021-06-22T08:37:15.432598Z"
    }
   },
   "outputs": [
    {
     "data": {
      "text/html": [
       "<div>\n",
       "<style scoped>\n",
       "    .dataframe tbody tr th:only-of-type {\n",
       "        vertical-align: middle;\n",
       "    }\n",
       "\n",
       "    .dataframe tbody tr th {\n",
       "        vertical-align: top;\n",
       "    }\n",
       "\n",
       "    .dataframe thead th {\n",
       "        text-align: right;\n",
       "    }\n",
       "</style>\n",
       "<table border=\"1\" class=\"dataframe\">\n",
       "  <thead>\n",
       "    <tr style=\"text-align: right;\">\n",
       "      <th></th>\n",
       "      <th>Date</th>\n",
       "      <th>Open</th>\n",
       "      <th>High</th>\n",
       "      <th>Low</th>\n",
       "      <th>Close</th>\n",
       "      <th>Volume</th>\n",
       "      <th>Turnover</th>\n",
       "      <th>P/E</th>\n",
       "      <th>P/B</th>\n",
       "      <th>Div Yield</th>\n",
       "    </tr>\n",
       "  </thead>\n",
       "  <tbody>\n",
       "    <tr>\n",
       "      <th>0</th>\n",
       "      <td>02 January 2006</td>\n",
       "      <td>4566.95</td>\n",
       "      <td>4601.35</td>\n",
       "      <td>4542.00</td>\n",
       "      <td>4556.25</td>\n",
       "      <td>18711186.0</td>\n",
       "      <td>9.443100e+09</td>\n",
       "      <td>13.97</td>\n",
       "      <td>2.40</td>\n",
       "      <td>1.41</td>\n",
       "    </tr>\n",
       "    <tr>\n",
       "      <th>1</th>\n",
       "      <td>03 January 2006</td>\n",
       "      <td>4531.45</td>\n",
       "      <td>4605.45</td>\n",
       "      <td>4531.45</td>\n",
       "      <td>4600.25</td>\n",
       "      <td>12127672.0</td>\n",
       "      <td>5.572300e+09</td>\n",
       "      <td>14.11</td>\n",
       "      <td>2.43</td>\n",
       "      <td>1.40</td>\n",
       "    </tr>\n",
       "    <tr>\n",
       "      <th>2</th>\n",
       "      <td>04 January 2006</td>\n",
       "      <td>4619.55</td>\n",
       "      <td>4707.60</td>\n",
       "      <td>4616.05</td>\n",
       "      <td>4694.15</td>\n",
       "      <td>25290852.0</td>\n",
       "      <td>8.382600e+09</td>\n",
       "      <td>14.40</td>\n",
       "      <td>2.48</td>\n",
       "      <td>1.37</td>\n",
       "    </tr>\n",
       "    <tr>\n",
       "      <th>3</th>\n",
       "      <td>05 January 2006</td>\n",
       "      <td>4714.20</td>\n",
       "      <td>4782.65</td>\n",
       "      <td>4670.55</td>\n",
       "      <td>4760.45</td>\n",
       "      <td>33755180.0</td>\n",
       "      <td>9.609600e+09</td>\n",
       "      <td>14.60</td>\n",
       "      <td>2.51</td>\n",
       "      <td>1.35</td>\n",
       "    </tr>\n",
       "    <tr>\n",
       "      <th>4</th>\n",
       "      <td>06 January 2006</td>\n",
       "      <td>4767.25</td>\n",
       "      <td>4802.80</td>\n",
       "      <td>4703.10</td>\n",
       "      <td>4755.60</td>\n",
       "      <td>18837880.0</td>\n",
       "      <td>5.432000e+09</td>\n",
       "      <td>14.59</td>\n",
       "      <td>2.51</td>\n",
       "      <td>1.35</td>\n",
       "    </tr>\n",
       "  </tbody>\n",
       "</table>\n",
       "</div>"
      ],
      "text/plain": [
       "              Date     Open     High      Low    Close      Volume  \\\n",
       "0  02 January 2006  4566.95  4601.35  4542.00  4556.25  18711186.0   \n",
       "1  03 January 2006  4531.45  4605.45  4531.45  4600.25  12127672.0   \n",
       "2  04 January 2006  4619.55  4707.60  4616.05  4694.15  25290852.0   \n",
       "3  05 January 2006  4714.20  4782.65  4670.55  4760.45  33755180.0   \n",
       "4  06 January 2006  4767.25  4802.80  4703.10  4755.60  18837880.0   \n",
       "\n",
       "       Turnover    P/E   P/B  Div Yield  \n",
       "0  9.443100e+09  13.97  2.40       1.41  \n",
       "1  5.572300e+09  14.11  2.43       1.40  \n",
       "2  8.382600e+09  14.40  2.48       1.37  \n",
       "3  9.609600e+09  14.60  2.51       1.35  \n",
       "4  5.432000e+09  14.59  2.51       1.35  "
      ]
     },
     "execution_count": 40,
     "metadata": {},
     "output_type": "execute_result"
    }
   ],
   "source": [
    "banknifty_df=pd.read_csv(\"../input/nifty-bank/NIFTY BANK.csv\")\n",
    "banknifty_df.head()"
   ]
  },
  {
   "cell_type": "code",
   "execution_count": 41,
   "metadata": {
    "execution": {
     "iopub.execute_input": "2021-06-22T08:37:15.470870Z",
     "iopub.status.busy": "2021-06-22T08:37:15.470326Z",
     "iopub.status.idle": "2021-06-22T08:37:15.490284Z",
     "shell.execute_reply": "2021-06-22T08:37:15.489105Z",
     "shell.execute_reply.started": "2021-06-22T08:37:15.470824Z"
    }
   },
   "outputs": [
    {
     "name": "stdout",
     "output_type": "stream",
     "text": [
      "<class 'pandas.core.frame.DataFrame'>\n",
      "RangeIndex: 3700 entries, 0 to 3699\n",
      "Data columns (total 10 columns):\n",
      " #   Column     Non-Null Count  Dtype  \n",
      "---  ------     --------------  -----  \n",
      " 0   Date       3700 non-null   object \n",
      " 1   Open       3700 non-null   float64\n",
      " 2   High       3700 non-null   float64\n",
      " 3   Low        3700 non-null   float64\n",
      " 4   Close      3700 non-null   float64\n",
      " 5   Volume     3690 non-null   float64\n",
      " 6   Turnover   3690 non-null   float64\n",
      " 7   P/E        3700 non-null   float64\n",
      " 8   P/B        3700 non-null   float64\n",
      " 9   Div Yield  3700 non-null   float64\n",
      "dtypes: float64(9), object(1)\n",
      "memory usage: 289.2+ KB\n"
     ]
    }
   ],
   "source": [
    "banknifty_df.info()"
   ]
  },
  {
   "cell_type": "code",
   "execution_count": 42,
   "metadata": {
    "execution": {
     "iopub.execute_input": "2021-06-22T08:37:15.623136Z",
     "iopub.status.busy": "2021-06-22T08:37:15.622782Z",
     "iopub.status.idle": "2021-06-22T08:37:16.187820Z",
     "shell.execute_reply": "2021-06-22T08:37:16.186990Z",
     "shell.execute_reply.started": "2021-06-22T08:37:15.623108Z"
    }
   },
   "outputs": [
    {
     "data": {
      "text/html": [
       "<div>\n",
       "<style scoped>\n",
       "    .dataframe tbody tr th:only-of-type {\n",
       "        vertical-align: middle;\n",
       "    }\n",
       "\n",
       "    .dataframe tbody tr th {\n",
       "        vertical-align: top;\n",
       "    }\n",
       "\n",
       "    .dataframe thead th {\n",
       "        text-align: right;\n",
       "    }\n",
       "</style>\n",
       "<table border=\"1\" class=\"dataframe\">\n",
       "  <thead>\n",
       "    <tr style=\"text-align: right;\">\n",
       "      <th></th>\n",
       "      <th>Open</th>\n",
       "      <th>High</th>\n",
       "      <th>Low</th>\n",
       "      <th>Close</th>\n",
       "      <th>Volume</th>\n",
       "      <th>Turnover</th>\n",
       "      <th>P/E</th>\n",
       "      <th>P/B</th>\n",
       "      <th>Div Yield</th>\n",
       "    </tr>\n",
       "  </thead>\n",
       "  <tbody>\n",
       "    <tr>\n",
       "      <th>count</th>\n",
       "      <td>3700.000000</td>\n",
       "      <td>3700.000000</td>\n",
       "      <td>3700.000000</td>\n",
       "      <td>3700.000000</td>\n",
       "      <td>3.690000e+03</td>\n",
       "      <td>3.690000e+03</td>\n",
       "      <td>3700.000000</td>\n",
       "      <td>3700.000000</td>\n",
       "      <td>3700.000000</td>\n",
       "    </tr>\n",
       "    <tr>\n",
       "      <th>mean</th>\n",
       "      <td>14645.055081</td>\n",
       "      <td>14771.237797</td>\n",
       "      <td>14497.481608</td>\n",
       "      <td>14634.682608</td>\n",
       "      <td>8.500419e+07</td>\n",
       "      <td>2.682393e+10</td>\n",
       "      <td>22.109978</td>\n",
       "      <td>2.511492</td>\n",
       "      <td>1.045232</td>\n",
       "    </tr>\n",
       "    <tr>\n",
       "      <th>std</th>\n",
       "      <td>7859.672449</td>\n",
       "      <td>7894.037505</td>\n",
       "      <td>7809.727810</td>\n",
       "      <td>7851.614946</td>\n",
       "      <td>1.274485e+08</td>\n",
       "      <td>2.598903e+10</td>\n",
       "      <td>12.660597</td>\n",
       "      <td>0.550900</td>\n",
       "      <td>0.458563</td>\n",
       "    </tr>\n",
       "    <tr>\n",
       "      <th>min</th>\n",
       "      <td>3385.400000</td>\n",
       "      <td>3446.750000</td>\n",
       "      <td>3314.550000</td>\n",
       "      <td>3339.700000</td>\n",
       "      <td>3.763050e+05</td>\n",
       "      <td>2.578000e+08</td>\n",
       "      <td>6.220000</td>\n",
       "      <td>0.970000</td>\n",
       "      <td>0.160000</td>\n",
       "    </tr>\n",
       "    <tr>\n",
       "      <th>25%</th>\n",
       "      <td>8826.312500</td>\n",
       "      <td>8921.675000</td>\n",
       "      <td>8656.112500</td>\n",
       "      <td>8788.025000</td>\n",
       "      <td>1.619880e+07</td>\n",
       "      <td>1.245612e+10</td>\n",
       "      <td>14.227500</td>\n",
       "      <td>2.177500</td>\n",
       "      <td>0.700000</td>\n",
       "    </tr>\n",
       "    <tr>\n",
       "      <th>50%</th>\n",
       "      <td>11784.550000</td>\n",
       "      <td>11892.750000</td>\n",
       "      <td>11644.625000</td>\n",
       "      <td>11791.750000</td>\n",
       "      <td>3.106824e+07</td>\n",
       "      <td>1.859960e+10</td>\n",
       "      <td>17.510000</td>\n",
       "      <td>2.490000</td>\n",
       "      <td>1.110000</td>\n",
       "    </tr>\n",
       "    <tr>\n",
       "      <th>75%</th>\n",
       "      <td>20021.775000</td>\n",
       "      <td>20269.387500</td>\n",
       "      <td>19751.050000</td>\n",
       "      <td>19963.150000</td>\n",
       "      <td>9.108868e+07</td>\n",
       "      <td>2.918452e+10</td>\n",
       "      <td>26.480000</td>\n",
       "      <td>2.880000</td>\n",
       "      <td>1.320000</td>\n",
       "    </tr>\n",
       "    <tr>\n",
       "      <th>max</th>\n",
       "      <td>32486.600000</td>\n",
       "      <td>32613.100000</td>\n",
       "      <td>32248.500000</td>\n",
       "      <td>32443.850000</td>\n",
       "      <td>1.568143e+09</td>\n",
       "      <td>2.450000e+11</td>\n",
       "      <td>69.080000</td>\n",
       "      <td>4.730000</td>\n",
       "      <td>2.740000</td>\n",
       "    </tr>\n",
       "  </tbody>\n",
       "</table>\n",
       "</div>"
      ],
      "text/plain": [
       "               Open          High           Low         Close        Volume  \\\n",
       "count   3700.000000   3700.000000   3700.000000   3700.000000  3.690000e+03   \n",
       "mean   14645.055081  14771.237797  14497.481608  14634.682608  8.500419e+07   \n",
       "std     7859.672449   7894.037505   7809.727810   7851.614946  1.274485e+08   \n",
       "min     3385.400000   3446.750000   3314.550000   3339.700000  3.763050e+05   \n",
       "25%     8826.312500   8921.675000   8656.112500   8788.025000  1.619880e+07   \n",
       "50%    11784.550000  11892.750000  11644.625000  11791.750000  3.106824e+07   \n",
       "75%    20021.775000  20269.387500  19751.050000  19963.150000  9.108868e+07   \n",
       "max    32486.600000  32613.100000  32248.500000  32443.850000  1.568143e+09   \n",
       "\n",
       "           Turnover          P/E          P/B    Div Yield  \n",
       "count  3.690000e+03  3700.000000  3700.000000  3700.000000  \n",
       "mean   2.682393e+10    22.109978     2.511492     1.045232  \n",
       "std    2.598903e+10    12.660597     0.550900     0.458563  \n",
       "min    2.578000e+08     6.220000     0.970000     0.160000  \n",
       "25%    1.245612e+10    14.227500     2.177500     0.700000  \n",
       "50%    1.859960e+10    17.510000     2.490000     1.110000  \n",
       "75%    2.918452e+10    26.480000     2.880000     1.320000  \n",
       "max    2.450000e+11    69.080000     4.730000     2.740000  "
      ]
     },
     "execution_count": 42,
     "metadata": {},
     "output_type": "execute_result"
    }
   ],
   "source": [
    "banknifty_df.describe()"
   ]
  },
  {
   "cell_type": "code",
   "execution_count": 43,
   "metadata": {
    "execution": {
     "iopub.execute_input": "2021-06-22T08:37:16.189989Z",
     "iopub.status.busy": "2021-06-22T08:37:16.189684Z",
     "iopub.status.idle": "2021-06-22T08:37:16.209527Z",
     "shell.execute_reply": "2021-06-22T08:37:16.208418Z",
     "shell.execute_reply.started": "2021-06-22T08:37:16.189960Z"
    }
   },
   "outputs": [
    {
     "data": {
      "text/html": [
       "<div>\n",
       "<style scoped>\n",
       "    .dataframe tbody tr th:only-of-type {\n",
       "        vertical-align: middle;\n",
       "    }\n",
       "\n",
       "    .dataframe tbody tr th {\n",
       "        vertical-align: top;\n",
       "    }\n",
       "\n",
       "    .dataframe thead th {\n",
       "        text-align: right;\n",
       "    }\n",
       "</style>\n",
       "<table border=\"1\" class=\"dataframe\">\n",
       "  <thead>\n",
       "    <tr style=\"text-align: right;\">\n",
       "      <th></th>\n",
       "      <th>Date</th>\n",
       "      <th>Open</th>\n",
       "      <th>High</th>\n",
       "      <th>Low</th>\n",
       "      <th>Close</th>\n",
       "      <th>Volume</th>\n",
       "      <th>Turnover</th>\n",
       "      <th>P/E</th>\n",
       "      <th>P/B</th>\n",
       "      <th>Div Yield</th>\n",
       "      <th>Prev_close</th>\n",
       "    </tr>\n",
       "  </thead>\n",
       "  <tbody>\n",
       "    <tr>\n",
       "      <th>0</th>\n",
       "      <td>02 January 2006</td>\n",
       "      <td>4566.95</td>\n",
       "      <td>4601.35</td>\n",
       "      <td>4542.00</td>\n",
       "      <td>4556.25</td>\n",
       "      <td>18711186.0</td>\n",
       "      <td>9.443100e+09</td>\n",
       "      <td>13.97</td>\n",
       "      <td>2.40</td>\n",
       "      <td>1.41</td>\n",
       "      <td>NaN</td>\n",
       "    </tr>\n",
       "    <tr>\n",
       "      <th>1</th>\n",
       "      <td>03 January 2006</td>\n",
       "      <td>4531.45</td>\n",
       "      <td>4605.45</td>\n",
       "      <td>4531.45</td>\n",
       "      <td>4600.25</td>\n",
       "      <td>12127672.0</td>\n",
       "      <td>5.572300e+09</td>\n",
       "      <td>14.11</td>\n",
       "      <td>2.43</td>\n",
       "      <td>1.40</td>\n",
       "      <td>4556.25</td>\n",
       "    </tr>\n",
       "  </tbody>\n",
       "</table>\n",
       "</div>"
      ],
      "text/plain": [
       "              Date     Open     High      Low    Close      Volume  \\\n",
       "0  02 January 2006  4566.95  4601.35  4542.00  4556.25  18711186.0   \n",
       "1  03 January 2006  4531.45  4605.45  4531.45  4600.25  12127672.0   \n",
       "\n",
       "       Turnover    P/E   P/B  Div Yield  Prev_close  \n",
       "0  9.443100e+09  13.97  2.40       1.41         NaN  \n",
       "1  5.572300e+09  14.11  2.43       1.40     4556.25  "
      ]
     },
     "execution_count": 43,
     "metadata": {},
     "output_type": "execute_result"
    }
   ],
   "source": [
    "banknifty_df['Prev_close']=banknifty_df['Close'].shift(1) # Calculate previous close\n",
    "banknifty_df.head(2)"
   ]
  },
  {
   "cell_type": "code",
   "execution_count": 44,
   "metadata": {
    "execution": {
     "iopub.execute_input": "2021-06-22T08:37:16.211619Z",
     "iopub.status.busy": "2021-06-22T08:37:16.211207Z",
     "iopub.status.idle": "2021-06-22T08:37:16.239794Z",
     "shell.execute_reply": "2021-06-22T08:37:16.238872Z",
     "shell.execute_reply.started": "2021-06-22T08:37:16.211547Z"
    }
   },
   "outputs": [
    {
     "data": {
      "text/html": [
       "<div>\n",
       "<style scoped>\n",
       "    .dataframe tbody tr th:only-of-type {\n",
       "        vertical-align: middle;\n",
       "    }\n",
       "\n",
       "    .dataframe tbody tr th {\n",
       "        vertical-align: top;\n",
       "    }\n",
       "\n",
       "    .dataframe thead th {\n",
       "        text-align: right;\n",
       "    }\n",
       "</style>\n",
       "<table border=\"1\" class=\"dataframe\">\n",
       "  <thead>\n",
       "    <tr style=\"text-align: right;\">\n",
       "      <th></th>\n",
       "      <th>Date</th>\n",
       "      <th>Open</th>\n",
       "      <th>High</th>\n",
       "      <th>Low</th>\n",
       "      <th>Close</th>\n",
       "      <th>Volume</th>\n",
       "      <th>Turnover</th>\n",
       "      <th>P/E</th>\n",
       "      <th>P/B</th>\n",
       "      <th>Div Yield</th>\n",
       "      <th>Prev_close</th>\n",
       "      <th>percentage</th>\n",
       "    </tr>\n",
       "  </thead>\n",
       "  <tbody>\n",
       "    <tr>\n",
       "      <th>0</th>\n",
       "      <td>02 January 2006</td>\n",
       "      <td>4566.95</td>\n",
       "      <td>4601.35</td>\n",
       "      <td>4542.00</td>\n",
       "      <td>4556.25</td>\n",
       "      <td>18711186.0</td>\n",
       "      <td>9.443100e+09</td>\n",
       "      <td>13.97</td>\n",
       "      <td>2.40</td>\n",
       "      <td>1.41</td>\n",
       "      <td>NaN</td>\n",
       "      <td>NaN</td>\n",
       "    </tr>\n",
       "    <tr>\n",
       "      <th>1</th>\n",
       "      <td>03 January 2006</td>\n",
       "      <td>4531.45</td>\n",
       "      <td>4605.45</td>\n",
       "      <td>4531.45</td>\n",
       "      <td>4600.25</td>\n",
       "      <td>12127672.0</td>\n",
       "      <td>5.572300e+09</td>\n",
       "      <td>14.11</td>\n",
       "      <td>2.43</td>\n",
       "      <td>1.40</td>\n",
       "      <td>4556.25</td>\n",
       "      <td>0.97</td>\n",
       "    </tr>\n",
       "    <tr>\n",
       "      <th>2</th>\n",
       "      <td>04 January 2006</td>\n",
       "      <td>4619.55</td>\n",
       "      <td>4707.60</td>\n",
       "      <td>4616.05</td>\n",
       "      <td>4694.15</td>\n",
       "      <td>25290852.0</td>\n",
       "      <td>8.382600e+09</td>\n",
       "      <td>14.40</td>\n",
       "      <td>2.48</td>\n",
       "      <td>1.37</td>\n",
       "      <td>4600.25</td>\n",
       "      <td>2.04</td>\n",
       "    </tr>\n",
       "    <tr>\n",
       "      <th>3</th>\n",
       "      <td>05 January 2006</td>\n",
       "      <td>4714.20</td>\n",
       "      <td>4782.65</td>\n",
       "      <td>4670.55</td>\n",
       "      <td>4760.45</td>\n",
       "      <td>33755180.0</td>\n",
       "      <td>9.609600e+09</td>\n",
       "      <td>14.60</td>\n",
       "      <td>2.51</td>\n",
       "      <td>1.35</td>\n",
       "      <td>4694.15</td>\n",
       "      <td>1.41</td>\n",
       "    </tr>\n",
       "    <tr>\n",
       "      <th>4</th>\n",
       "      <td>06 January 2006</td>\n",
       "      <td>4767.25</td>\n",
       "      <td>4802.80</td>\n",
       "      <td>4703.10</td>\n",
       "      <td>4755.60</td>\n",
       "      <td>18837880.0</td>\n",
       "      <td>5.432000e+09</td>\n",
       "      <td>14.59</td>\n",
       "      <td>2.51</td>\n",
       "      <td>1.35</td>\n",
       "      <td>4760.45</td>\n",
       "      <td>-0.10</td>\n",
       "    </tr>\n",
       "  </tbody>\n",
       "</table>\n",
       "</div>"
      ],
      "text/plain": [
       "              Date     Open     High      Low    Close      Volume  \\\n",
       "0  02 January 2006  4566.95  4601.35  4542.00  4556.25  18711186.0   \n",
       "1  03 January 2006  4531.45  4605.45  4531.45  4600.25  12127672.0   \n",
       "2  04 January 2006  4619.55  4707.60  4616.05  4694.15  25290852.0   \n",
       "3  05 January 2006  4714.20  4782.65  4670.55  4760.45  33755180.0   \n",
       "4  06 January 2006  4767.25  4802.80  4703.10  4755.60  18837880.0   \n",
       "\n",
       "       Turnover    P/E   P/B  Div Yield  Prev_close  percentage  \n",
       "0  9.443100e+09  13.97  2.40       1.41         NaN         NaN  \n",
       "1  5.572300e+09  14.11  2.43       1.40     4556.25        0.97  \n",
       "2  8.382600e+09  14.40  2.48       1.37     4600.25        2.04  \n",
       "3  9.609600e+09  14.60  2.51       1.35     4694.15        1.41  \n",
       "4  5.432000e+09  14.59  2.51       1.35     4760.45       -0.10  "
      ]
     },
     "execution_count": 44,
     "metadata": {},
     "output_type": "execute_result"
    }
   ],
   "source": [
    "# Calculate Percentage\n",
    "banknifty_df['percentage']=(banknifty_df['Close']-banknifty_df['Prev_close'])*100/banknifty_df['Prev_close'] \n",
    "banknifty_df['percentage']=banknifty_df['percentage'].round(2)\n",
    "banknifty_df.head()"
   ]
  },
  {
   "cell_type": "code",
   "execution_count": 45,
   "metadata": {
    "execution": {
     "iopub.execute_input": "2021-06-22T08:37:16.241572Z",
     "iopub.status.busy": "2021-06-22T08:37:16.241165Z",
     "iopub.status.idle": "2021-06-22T08:37:16.723702Z",
     "shell.execute_reply": "2021-06-22T08:37:16.722702Z",
     "shell.execute_reply.started": "2021-06-22T08:37:16.241524Z"
    }
   },
   "outputs": [
    {
     "data": {
      "text/plain": [
       "<seaborn.axisgrid.FacetGrid at 0x7fe79c874ad0>"
      ]
     },
     "execution_count": 45,
     "metadata": {},
     "output_type": "execute_result"
    },
    {
     "data": {
      "text/plain": [
       "<Figure size 1440x432 with 0 Axes>"
      ]
     },
     "metadata": {},
     "output_type": "display_data"
    },
    {
     "data": {
      "image/png": "[encoded data removed]",
      "text/plain": [
       "<Figure size 360x360 with 1 Axes>"
      ]
     },
     "metadata": {
      "needs_background": "light"
     },
     "output_type": "display_data"
    }
   ],
   "source": [
    "# Histogram of Percentage column\n",
    "plt.figure(figsize=(20,6))\n",
    "sns.displot(banknifty_df['percentage'],bins=100)"
   ]
  },
  {
   "cell_type": "code",
   "execution_count": 46,
   "metadata": {
    "execution": {
     "iopub.execute_input": "2021-06-22T08:37:16.726644Z",
     "iopub.status.busy": "2021-06-22T08:37:16.726066Z",
     "iopub.status.idle": "2021-06-22T08:37:16.737776Z",
     "shell.execute_reply": "2021-06-22T08:37:16.736855Z",
     "shell.execute_reply.started": "2021-06-22T08:37:16.726598Z"
    }
   },
   "outputs": [
    {
     "data": {
      "text/plain": [
       "count    3699.000000\n",
       "mean        0.069243\n",
       "std         1.906025\n",
       "min       -16.730000\n",
       "25%        -0.840000\n",
       "50%         0.080000\n",
       "75%         0.970000\n",
       "max        18.810000\n",
       "Name: percentage, dtype: float64"
      ]
     },
     "execution_count": 46,
     "metadata": {},
     "output_type": "execute_result"
    }
   ],
   "source": [
    "banknifty_df['percentage'].describe()"
   ]
  },
  {
   "cell_type": "code",
   "execution_count": 47,
   "metadata": {
    "execution": {
     "iopub.execute_input": "2021-06-22T08:37:16.739985Z",
     "iopub.status.busy": "2021-06-22T08:37:16.739348Z",
     "iopub.status.idle": "2021-06-22T08:37:16.765618Z",
     "shell.execute_reply": "2021-06-22T08:37:16.764499Z",
     "shell.execute_reply.started": "2021-06-22T08:37:16.739921Z"
    }
   },
   "outputs": [
    {
     "data": {
      "text/html": [
       "<div>\n",
       "<style scoped>\n",
       "    .dataframe tbody tr th:only-of-type {\n",
       "        vertical-align: middle;\n",
       "    }\n",
       "\n",
       "    .dataframe tbody tr th {\n",
       "        vertical-align: top;\n",
       "    }\n",
       "\n",
       "    .dataframe thead th {\n",
       "        text-align: right;\n",
       "    }\n",
       "</style>\n",
       "<table border=\"1\" class=\"dataframe\">\n",
       "  <thead>\n",
       "    <tr style=\"text-align: right;\">\n",
       "      <th></th>\n",
       "      <th>Date</th>\n",
       "      <th>Open</th>\n",
       "      <th>High</th>\n",
       "      <th>Low</th>\n",
       "      <th>Close</th>\n",
       "      <th>Volume</th>\n",
       "      <th>Turnover</th>\n",
       "      <th>P/E</th>\n",
       "      <th>P/B</th>\n",
       "      <th>Div Yield</th>\n",
       "      <th>Prev_close</th>\n",
       "      <th>percentage</th>\n",
       "      <th>abs_percentage</th>\n",
       "    </tr>\n",
       "  </thead>\n",
       "  <tbody>\n",
       "    <tr>\n",
       "      <th>0</th>\n",
       "      <td>02 January 2006</td>\n",
       "      <td>4566.95</td>\n",
       "      <td>4601.35</td>\n",
       "      <td>4542.00</td>\n",
       "      <td>4556.25</td>\n",
       "      <td>18711186.0</td>\n",
       "      <td>9.443100e+09</td>\n",
       "      <td>13.97</td>\n",
       "      <td>2.40</td>\n",
       "      <td>1.41</td>\n",
       "      <td>NaN</td>\n",
       "      <td>NaN</td>\n",
       "      <td>NaN</td>\n",
       "    </tr>\n",
       "    <tr>\n",
       "      <th>1</th>\n",
       "      <td>03 January 2006</td>\n",
       "      <td>4531.45</td>\n",
       "      <td>4605.45</td>\n",
       "      <td>4531.45</td>\n",
       "      <td>4600.25</td>\n",
       "      <td>12127672.0</td>\n",
       "      <td>5.572300e+09</td>\n",
       "      <td>14.11</td>\n",
       "      <td>2.43</td>\n",
       "      <td>1.40</td>\n",
       "      <td>4556.25</td>\n",
       "      <td>0.97</td>\n",
       "      <td>0.97</td>\n",
       "    </tr>\n",
       "    <tr>\n",
       "      <th>2</th>\n",
       "      <td>04 January 2006</td>\n",
       "      <td>4619.55</td>\n",
       "      <td>4707.60</td>\n",
       "      <td>4616.05</td>\n",
       "      <td>4694.15</td>\n",
       "      <td>25290852.0</td>\n",
       "      <td>8.382600e+09</td>\n",
       "      <td>14.40</td>\n",
       "      <td>2.48</td>\n",
       "      <td>1.37</td>\n",
       "      <td>4600.25</td>\n",
       "      <td>2.04</td>\n",
       "      <td>2.04</td>\n",
       "    </tr>\n",
       "    <tr>\n",
       "      <th>3</th>\n",
       "      <td>05 January 2006</td>\n",
       "      <td>4714.20</td>\n",
       "      <td>4782.65</td>\n",
       "      <td>4670.55</td>\n",
       "      <td>4760.45</td>\n",
       "      <td>33755180.0</td>\n",
       "      <td>9.609600e+09</td>\n",
       "      <td>14.60</td>\n",
       "      <td>2.51</td>\n",
       "      <td>1.35</td>\n",
       "      <td>4694.15</td>\n",
       "      <td>1.41</td>\n",
       "      <td>1.41</td>\n",
       "    </tr>\n",
       "    <tr>\n",
       "      <th>4</th>\n",
       "      <td>06 January 2006</td>\n",
       "      <td>4767.25</td>\n",
       "      <td>4802.80</td>\n",
       "      <td>4703.10</td>\n",
       "      <td>4755.60</td>\n",
       "      <td>18837880.0</td>\n",
       "      <td>5.432000e+09</td>\n",
       "      <td>14.59</td>\n",
       "      <td>2.51</td>\n",
       "      <td>1.35</td>\n",
       "      <td>4760.45</td>\n",
       "      <td>-0.10</td>\n",
       "      <td>0.10</td>\n",
       "    </tr>\n",
       "  </tbody>\n",
       "</table>\n",
       "</div>"
      ],
      "text/plain": [
       "              Date     Open     High      Low    Close      Volume  \\\n",
       "0  02 January 2006  4566.95  4601.35  4542.00  4556.25  18711186.0   \n",
       "1  03 January 2006  4531.45  4605.45  4531.45  4600.25  12127672.0   \n",
       "2  04 January 2006  4619.55  4707.60  4616.05  4694.15  25290852.0   \n",
       "3  05 January 2006  4714.20  4782.65  4670.55  4760.45  33755180.0   \n",
       "4  06 January 2006  4767.25  4802.80  4703.10  4755.60  18837880.0   \n",
       "\n",
       "       Turnover    P/E   P/B  Div Yield  Prev_close  percentage  \\\n",
       "0  9.443100e+09  13.97  2.40       1.41         NaN         NaN   \n",
       "1  5.572300e+09  14.11  2.43       1.40     4556.25        0.97   \n",
       "2  8.382600e+09  14.40  2.48       1.37     4600.25        2.04   \n",
       "3  9.609600e+09  14.60  2.51       1.35     4694.15        1.41   \n",
       "4  5.432000e+09  14.59  2.51       1.35     4760.45       -0.10   \n",
       "\n",
       "   abs_percentage  \n",
       "0             NaN  \n",
       "1            0.97  \n",
       "2            2.04  \n",
       "3            1.41  \n",
       "4            0.10  "
      ]
     },
     "execution_count": 47,
     "metadata": {},
     "output_type": "execute_result"
    }
   ],
   "source": [
    "# Calculate Absolute Percentage\n",
    "banknifty_df['abs_percentage']=abs(banknifty_df['Close']-banknifty_df['Prev_close'])*100/banknifty_df['Prev_close'] # Calculate abs percentage\n",
    "banknifty_df['abs_percentage']=banknifty_df['abs_percentage'].round(2)\n",
    "banknifty_df.head()"
   ]
  },
  {
   "cell_type": "code",
   "execution_count": 48,
   "metadata": {
    "execution": {
     "iopub.execute_input": "2021-06-22T08:37:16.767838Z",
     "iopub.status.busy": "2021-06-22T08:37:16.767203Z",
     "iopub.status.idle": "2021-06-22T08:37:17.238686Z",
     "shell.execute_reply": "2021-06-22T08:37:17.237934Z",
     "shell.execute_reply.started": "2021-06-22T08:37:16.767794Z"
    }
   },
   "outputs": [
    {
     "data": {
      "text/plain": [
       "<seaborn.axisgrid.FacetGrid at 0x7fe797ab3d50>"
      ]
     },
     "execution_count": 48,
     "metadata": {},
     "output_type": "execute_result"
    },
    {
     "data": {
      "text/plain": [
       "<Figure size 864x432 with 0 Axes>"
      ]
     },
     "metadata": {},
     "output_type": "display_data"
    },
    {
     "data": {
      "image/png": "[encoded data removed]",
      "text/plain": [
       "<Figure size 360x360 with 1 Axes>"
      ]
     },
     "metadata": {
      "needs_background": "light"
     },
     "output_type": "display_data"
    }
   ],
   "source": [
    "plt.figure(figsize=(12,6))\n",
    "sns.displot(banknifty_df['abs_percentage'],bins=100)"
   ]
  },
  {
   "cell_type": "code",
   "execution_count": 49,
   "metadata": {
    "execution": {
     "iopub.execute_input": "2021-06-22T08:37:17.240708Z",
     "iopub.status.busy": "2021-06-22T08:37:17.240426Z",
     "iopub.status.idle": "2021-06-22T08:37:17.250054Z",
     "shell.execute_reply": "2021-06-22T08:37:17.249033Z",
     "shell.execute_reply.started": "2021-06-22T08:37:17.240679Z"
    }
   },
   "outputs": [
    {
     "data": {
      "text/plain": [
       "count    3699.000000\n",
       "mean        1.314720\n",
       "std         1.381582\n",
       "min         0.000000\n",
       "25%         0.395000\n",
       "50%         0.900000\n",
       "75%         1.780000\n",
       "max        18.810000\n",
       "Name: abs_percentage, dtype: float64"
      ]
     },
     "execution_count": 49,
     "metadata": {},
     "output_type": "execute_result"
    }
   ],
   "source": [
    "banknifty_df['abs_percentage'].describe()"
   ]
  },
  {
   "cell_type": "code",
   "execution_count": 50,
   "metadata": {
    "execution": {
     "iopub.execute_input": "2021-06-22T08:37:17.732273Z",
     "iopub.status.busy": "2021-06-22T08:37:17.731936Z",
     "iopub.status.idle": "2021-06-22T08:37:18.117268Z",
     "shell.execute_reply": "2021-06-22T08:37:18.116305Z",
     "shell.execute_reply.started": "2021-06-22T08:37:17.732244Z"
    }
   },
   "outputs": [
    {
     "data": {
      "text/html": [
       "<div>\n",
       "<style scoped>\n",
       "    .dataframe tbody tr th:only-of-type {\n",
       "        vertical-align: middle;\n",
       "    }\n",
       "\n",
       "    .dataframe tbody tr th {\n",
       "        vertical-align: top;\n",
       "    }\n",
       "\n",
       "    .dataframe thead th {\n",
       "        text-align: right;\n",
       "    }\n",
       "</style>\n",
       "<table border=\"1\" class=\"dataframe\">\n",
       "  <thead>\n",
       "    <tr style=\"text-align: right;\">\n",
       "      <th></th>\n",
       "      <th>Date</th>\n",
       "      <th>Open</th>\n",
       "      <th>High</th>\n",
       "      <th>Low</th>\n",
       "      <th>Close</th>\n",
       "      <th>Volume</th>\n",
       "      <th>Turnover</th>\n",
       "      <th>P/E</th>\n",
       "      <th>P/B</th>\n",
       "      <th>Div Yield</th>\n",
       "      <th>Prev_close</th>\n",
       "      <th>percentage</th>\n",
       "      <th>abs_percentage</th>\n",
       "      <th>year</th>\n",
       "      <th>Month</th>\n",
       "      <th>Day</th>\n",
       "      <th>dayOfWeek</th>\n",
       "    </tr>\n",
       "  </thead>\n",
       "  <tbody>\n",
       "    <tr>\n",
       "      <th>0</th>\n",
       "      <td>2006-01-02</td>\n",
       "      <td>4566.95</td>\n",
       "      <td>4601.35</td>\n",
       "      <td>4542.00</td>\n",
       "      <td>4556.25</td>\n",
       "      <td>18711186.0</td>\n",
       "      <td>9.443100e+09</td>\n",
       "      <td>13.97</td>\n",
       "      <td>2.40</td>\n",
       "      <td>1.41</td>\n",
       "      <td>NaN</td>\n",
       "      <td>NaN</td>\n",
       "      <td>NaN</td>\n",
       "      <td>2006</td>\n",
       "      <td>1</td>\n",
       "      <td>2</td>\n",
       "      <td>Monday</td>\n",
       "    </tr>\n",
       "    <tr>\n",
       "      <th>1</th>\n",
       "      <td>2006-01-03</td>\n",
       "      <td>4531.45</td>\n",
       "      <td>4605.45</td>\n",
       "      <td>4531.45</td>\n",
       "      <td>4600.25</td>\n",
       "      <td>12127672.0</td>\n",
       "      <td>5.572300e+09</td>\n",
       "      <td>14.11</td>\n",
       "      <td>2.43</td>\n",
       "      <td>1.40</td>\n",
       "      <td>4556.25</td>\n",
       "      <td>0.97</td>\n",
       "      <td>0.97</td>\n",
       "      <td>2006</td>\n",
       "      <td>1</td>\n",
       "      <td>3</td>\n",
       "      <td>Tuesday</td>\n",
       "    </tr>\n",
       "    <tr>\n",
       "      <th>2</th>\n",
       "      <td>2006-01-04</td>\n",
       "      <td>4619.55</td>\n",
       "      <td>4707.60</td>\n",
       "      <td>4616.05</td>\n",
       "      <td>4694.15</td>\n",
       "      <td>25290852.0</td>\n",
       "      <td>8.382600e+09</td>\n",
       "      <td>14.40</td>\n",
       "      <td>2.48</td>\n",
       "      <td>1.37</td>\n",
       "      <td>4600.25</td>\n",
       "      <td>2.04</td>\n",
       "      <td>2.04</td>\n",
       "      <td>2006</td>\n",
       "      <td>1</td>\n",
       "      <td>4</td>\n",
       "      <td>Wednesday</td>\n",
       "    </tr>\n",
       "    <tr>\n",
       "      <th>3</th>\n",
       "      <td>2006-01-05</td>\n",
       "      <td>4714.20</td>\n",
       "      <td>4782.65</td>\n",
       "      <td>4670.55</td>\n",
       "      <td>4760.45</td>\n",
       "      <td>33755180.0</td>\n",
       "      <td>9.609600e+09</td>\n",
       "      <td>14.60</td>\n",
       "      <td>2.51</td>\n",
       "      <td>1.35</td>\n",
       "      <td>4694.15</td>\n",
       "      <td>1.41</td>\n",
       "      <td>1.41</td>\n",
       "      <td>2006</td>\n",
       "      <td>1</td>\n",
       "      <td>5</td>\n",
       "      <td>Thursday</td>\n",
       "    </tr>\n",
       "    <tr>\n",
       "      <th>4</th>\n",
       "      <td>2006-01-06</td>\n",
       "      <td>4767.25</td>\n",
       "      <td>4802.80</td>\n",
       "      <td>4703.10</td>\n",
       "      <td>4755.60</td>\n",
       "      <td>18837880.0</td>\n",
       "      <td>5.432000e+09</td>\n",
       "      <td>14.59</td>\n",
       "      <td>2.51</td>\n",
       "      <td>1.35</td>\n",
       "      <td>4760.45</td>\n",
       "      <td>-0.10</td>\n",
       "      <td>0.10</td>\n",
       "      <td>2006</td>\n",
       "      <td>1</td>\n",
       "      <td>6</td>\n",
       "      <td>Friday</td>\n",
       "    </tr>\n",
       "  </tbody>\n",
       "</table>\n",
       "</div>"
      ],
      "text/plain": [
       "        Date     Open     High      Low    Close      Volume      Turnover  \\\n",
       "0 2006-01-02  4566.95  4601.35  4542.00  4556.25  18711186.0  9.443100e+09   \n",
       "1 2006-01-03  4531.45  4605.45  4531.45  4600.25  12127672.0  5.572300e+09   \n",
       "2 2006-01-04  4619.55  4707.60  4616.05  4694.15  25290852.0  8.382600e+09   \n",
       "3 2006-01-05  4714.20  4782.65  4670.55  4760.45  33755180.0  9.609600e+09   \n",
       "4 2006-01-06  4767.25  4802.80  4703.10  4755.60  18837880.0  5.432000e+09   \n",
       "\n",
       "     P/E   P/B  Div Yield  Prev_close  percentage  abs_percentage  year  \\\n",
       "0  13.97  2.40       1.41         NaN         NaN             NaN  2006   \n",
       "1  14.11  2.43       1.40     4556.25        0.97            0.97  2006   \n",
       "2  14.40  2.48       1.37     4600.25        2.04            2.04  2006   \n",
       "3  14.60  2.51       1.35     4694.15        1.41            1.41  2006   \n",
       "4  14.59  2.51       1.35     4760.45       -0.10            0.10  2006   \n",
       "\n",
       "   Month  Day  dayOfWeek  \n",
       "0      1    2     Monday  \n",
       "1      1    3    Tuesday  \n",
       "2      1    4  Wednesday  \n",
       "3      1    5   Thursday  \n",
       "4      1    6     Friday  "
      ]
     },
     "execution_count": 50,
     "metadata": {},
     "output_type": "execute_result"
    }
   ],
   "source": [
    "# split date to year,month,day and day of the week\n",
    "banknifty_df['Date'] = pd.to_datetime(banknifty_df['Date'])\n",
    "\n",
    "banknifty_df['Date'] = pd.to_datetime(banknifty_df['Date'])\n",
    "banknifty_df['year'] = pd.DatetimeIndex(banknifty_df['Date']).year\n",
    "banknifty_df['Month'] = pd.DatetimeIndex(banknifty_df['Date']).month\n",
    "banknifty_df['Day'] = pd.DatetimeIndex(banknifty_df['Date']).day\n",
    "banknifty_df['dayOfWeek'] = banknifty_df['Date'].dt.day_name()\n",
    "banknifty_df.head()"
   ]
  },
  {
   "cell_type": "code",
   "execution_count": 62,
   "metadata": {
    "execution": {
     "iopub.execute_input": "2021-06-22T08:42:29.574028Z",
     "iopub.status.busy": "2021-06-22T08:42:29.573584Z",
     "iopub.status.idle": "2021-06-22T08:42:29.774125Z",
     "shell.execute_reply": "2021-06-22T08:42:29.772921Z",
     "shell.execute_reply.started": "2021-06-22T08:42:29.573997Z"
    }
   },
   "outputs": [
    {
     "data": {
      "text/plain": [
       "Text(0.5, 1.0, 'BANK NIFTY Close Proce')"
      ]
     },
     "execution_count": 62,
     "metadata": {},
     "output_type": "execute_result"
    },
    {
     "data": {
      "image/png": "[encoded data removed]",
      "text/plain": [
       "<Figure size 864x432 with 1 Axes>"
      ]
     },
     "metadata": {
      "needs_background": "light"
     },
     "output_type": "display_data"
    }
   ],
   "source": [
    "#Plot Nifty Bank Closing price\n",
    "plt.figure(figsize=(12,6))\n",
    "plt.plot(banknifty_df['Date'],banknifty_df['Close'], color = 'blue', label = 'CLOSE PRICES', alpha = 0.7)\n",
    "plt.legend(loc = 'upper right')\n",
    "plt.title('BANK NIFTY Close Proce')"
   ]
  },
  {
   "cell_type": "code",
   "execution_count": 63,
   "metadata": {
    "execution": {
     "iopub.execute_input": "2021-06-22T08:43:31.918730Z",
     "iopub.status.busy": "2021-06-22T08:43:31.918370Z",
     "iopub.status.idle": "2021-06-22T08:43:31.948557Z",
     "shell.execute_reply": "2021-06-22T08:43:31.947335Z",
     "shell.execute_reply.started": "2021-06-22T08:43:31.918700Z"
    }
   },
   "outputs": [
    {
     "data": {
      "text/html": [
       "<div>\n",
       "<style scoped>\n",
       "    .dataframe tbody tr th:only-of-type {\n",
       "        vertical-align: middle;\n",
       "    }\n",
       "\n",
       "    .dataframe tbody tr th {\n",
       "        vertical-align: top;\n",
       "    }\n",
       "\n",
       "    .dataframe thead th {\n",
       "        text-align: right;\n",
       "    }\n",
       "</style>\n",
       "<table border=\"1\" class=\"dataframe\">\n",
       "  <thead>\n",
       "    <tr style=\"text-align: right;\">\n",
       "      <th></th>\n",
       "      <th>Date</th>\n",
       "      <th>Open</th>\n",
       "      <th>High</th>\n",
       "      <th>Low</th>\n",
       "      <th>Close</th>\n",
       "      <th>Volume</th>\n",
       "      <th>Turnover</th>\n",
       "      <th>P/E</th>\n",
       "      <th>P/B</th>\n",
       "      <th>Div Yield</th>\n",
       "      <th>Prev_close</th>\n",
       "      <th>percentage</th>\n",
       "      <th>abs_percentage</th>\n",
       "      <th>year</th>\n",
       "      <th>Month</th>\n",
       "      <th>Day</th>\n",
       "      <th>dayOfWeek</th>\n",
       "    </tr>\n",
       "  </thead>\n",
       "  <tbody>\n",
       "    <tr>\n",
       "      <th>0</th>\n",
       "      <td>2020-01-01</td>\n",
       "      <td>32237.90</td>\n",
       "      <td>32348.00</td>\n",
       "      <td>32057.20</td>\n",
       "      <td>32102.90</td>\n",
       "      <td>184671555.0</td>\n",
       "      <td>3.183970e+10</td>\n",
       "      <td>40.73</td>\n",
       "      <td>3.35</td>\n",
       "      <td>0.31</td>\n",
       "      <td>32161.65</td>\n",
       "      <td>-0.18</td>\n",
       "      <td>0.18</td>\n",
       "      <td>2020</td>\n",
       "      <td>1</td>\n",
       "      <td>1</td>\n",
       "      <td>Wednesday</td>\n",
       "    </tr>\n",
       "    <tr>\n",
       "      <th>1</th>\n",
       "      <td>2020-01-02</td>\n",
       "      <td>32133.15</td>\n",
       "      <td>32465.45</td>\n",
       "      <td>32121.40</td>\n",
       "      <td>32443.85</td>\n",
       "      <td>253558509.0</td>\n",
       "      <td>4.310340e+10</td>\n",
       "      <td>41.16</td>\n",
       "      <td>3.38</td>\n",
       "      <td>0.30</td>\n",
       "      <td>32102.90</td>\n",
       "      <td>1.06</td>\n",
       "      <td>1.06</td>\n",
       "      <td>2020</td>\n",
       "      <td>1</td>\n",
       "      <td>2</td>\n",
       "      <td>Thursday</td>\n",
       "    </tr>\n",
       "    <tr>\n",
       "      <th>2</th>\n",
       "      <td>2020-01-03</td>\n",
       "      <td>32326.95</td>\n",
       "      <td>32329.80</td>\n",
       "      <td>31960.40</td>\n",
       "      <td>32069.25</td>\n",
       "      <td>217584385.0</td>\n",
       "      <td>4.537650e+10</td>\n",
       "      <td>40.68</td>\n",
       "      <td>3.34</td>\n",
       "      <td>0.31</td>\n",
       "      <td>32443.85</td>\n",
       "      <td>-1.15</td>\n",
       "      <td>1.15</td>\n",
       "      <td>2020</td>\n",
       "      <td>1</td>\n",
       "      <td>3</td>\n",
       "      <td>Friday</td>\n",
       "    </tr>\n",
       "    <tr>\n",
       "      <th>3</th>\n",
       "      <td>2020-01-06</td>\n",
       "      <td>31910.45</td>\n",
       "      <td>31914.45</td>\n",
       "      <td>31170.55</td>\n",
       "      <td>31237.15</td>\n",
       "      <td>256236748.0</td>\n",
       "      <td>5.048530e+10</td>\n",
       "      <td>39.62</td>\n",
       "      <td>3.29</td>\n",
       "      <td>0.32</td>\n",
       "      <td>32069.25</td>\n",
       "      <td>-2.59</td>\n",
       "      <td>2.59</td>\n",
       "      <td>2020</td>\n",
       "      <td>1</td>\n",
       "      <td>6</td>\n",
       "      <td>Monday</td>\n",
       "    </tr>\n",
       "    <tr>\n",
       "      <th>4</th>\n",
       "      <td>2020-01-07</td>\n",
       "      <td>31598.05</td>\n",
       "      <td>31851.45</td>\n",
       "      <td>31200.90</td>\n",
       "      <td>31399.40</td>\n",
       "      <td>294368120.0</td>\n",
       "      <td>6.636370e+10</td>\n",
       "      <td>39.83</td>\n",
       "      <td>3.31</td>\n",
       "      <td>0.32</td>\n",
       "      <td>31237.15</td>\n",
       "      <td>0.52</td>\n",
       "      <td>0.52</td>\n",
       "      <td>2020</td>\n",
       "      <td>1</td>\n",
       "      <td>7</td>\n",
       "      <td>Tuesday</td>\n",
       "    </tr>\n",
       "  </tbody>\n",
       "</table>\n",
       "</div>"
      ],
      "text/plain": [
       "        Date      Open      High       Low     Close       Volume  \\\n",
       "0 2020-01-01  32237.90  32348.00  32057.20  32102.90  184671555.0   \n",
       "1 2020-01-02  32133.15  32465.45  32121.40  32443.85  253558509.0   \n",
       "2 2020-01-03  32326.95  32329.80  31960.40  32069.25  217584385.0   \n",
       "3 2020-01-06  31910.45  31914.45  31170.55  31237.15  256236748.0   \n",
       "4 2020-01-07  31598.05  31851.45  31200.90  31399.40  294368120.0   \n",
       "\n",
       "       Turnover    P/E   P/B  Div Yield  Prev_close  percentage  \\\n",
       "0  3.183970e+10  40.73  3.35       0.31    32161.65       -0.18   \n",
       "1  4.310340e+10  41.16  3.38       0.30    32102.90        1.06   \n",
       "2  4.537650e+10  40.68  3.34       0.31    32443.85       -1.15   \n",
       "3  5.048530e+10  39.62  3.29       0.32    32069.25       -2.59   \n",
       "4  6.636370e+10  39.83  3.31       0.32    31237.15        0.52   \n",
       "\n",
       "   abs_percentage  year  Month  Day  dayOfWeek  \n",
       "0            0.18  2020      1    1  Wednesday  \n",
       "1            1.06  2020      1    2   Thursday  \n",
       "2            1.15  2020      1    3     Friday  \n",
       "3            2.59  2020      1    6     Monday  \n",
       "4            0.52  2020      1    7    Tuesday  "
      ]
     },
     "execution_count": 63,
     "metadata": {},
     "output_type": "execute_result"
    }
   ],
   "source": [
    "# Create new Dataframe with 2020 year data\n",
    "banknifty2020_df=banknifty_df[banknifty_df['year']==2020].copy()\n",
    "banknifty2020_df.reset_index(drop=True,inplace=True)\n",
    "banknifty2020_df.head()"
   ]
  },
  {
   "cell_type": "code",
   "execution_count": 64,
   "metadata": {
    "execution": {
     "iopub.execute_input": "2021-06-22T08:43:35.038397Z",
     "iopub.status.busy": "2021-06-22T08:43:35.038023Z",
     "iopub.status.idle": "2021-06-22T08:43:35.068925Z",
     "shell.execute_reply": "2021-06-22T08:43:35.067995Z",
     "shell.execute_reply.started": "2021-06-22T08:43:35.038368Z"
    }
   },
   "outputs": [
    {
     "data": {
      "text/html": [
       "<div>\n",
       "<style scoped>\n",
       "    .dataframe tbody tr th:only-of-type {\n",
       "        vertical-align: middle;\n",
       "    }\n",
       "\n",
       "    .dataframe tbody tr th {\n",
       "        vertical-align: top;\n",
       "    }\n",
       "\n",
       "    .dataframe thead th {\n",
       "        text-align: right;\n",
       "    }\n",
       "</style>\n",
       "<table border=\"1\" class=\"dataframe\">\n",
       "  <thead>\n",
       "    <tr style=\"text-align: right;\">\n",
       "      <th></th>\n",
       "      <th>Date</th>\n",
       "      <th>Open</th>\n",
       "      <th>High</th>\n",
       "      <th>Low</th>\n",
       "      <th>Close</th>\n",
       "      <th>Volume</th>\n",
       "      <th>Turnover</th>\n",
       "      <th>P/E</th>\n",
       "      <th>P/B</th>\n",
       "      <th>Div Yield</th>\n",
       "      <th>Prev_close</th>\n",
       "      <th>percentage</th>\n",
       "      <th>abs_percentage</th>\n",
       "      <th>year</th>\n",
       "      <th>Month</th>\n",
       "      <th>Day</th>\n",
       "      <th>dayOfWeek</th>\n",
       "      <th>sma_20</th>\n",
       "    </tr>\n",
       "  </thead>\n",
       "  <tbody>\n",
       "    <tr>\n",
       "      <th>0</th>\n",
       "      <td>2020-01-01</td>\n",
       "      <td>32237.90</td>\n",
       "      <td>32348.00</td>\n",
       "      <td>32057.20</td>\n",
       "      <td>32102.90</td>\n",
       "      <td>184671555.0</td>\n",
       "      <td>3.183970e+10</td>\n",
       "      <td>40.73</td>\n",
       "      <td>3.35</td>\n",
       "      <td>0.31</td>\n",
       "      <td>32161.65</td>\n",
       "      <td>-0.18</td>\n",
       "      <td>0.18</td>\n",
       "      <td>2020</td>\n",
       "      <td>1</td>\n",
       "      <td>1</td>\n",
       "      <td>Wednesday</td>\n",
       "      <td>NaN</td>\n",
       "    </tr>\n",
       "    <tr>\n",
       "      <th>1</th>\n",
       "      <td>2020-01-02</td>\n",
       "      <td>32133.15</td>\n",
       "      <td>32465.45</td>\n",
       "      <td>32121.40</td>\n",
       "      <td>32443.85</td>\n",
       "      <td>253558509.0</td>\n",
       "      <td>4.310340e+10</td>\n",
       "      <td>41.16</td>\n",
       "      <td>3.38</td>\n",
       "      <td>0.30</td>\n",
       "      <td>32102.90</td>\n",
       "      <td>1.06</td>\n",
       "      <td>1.06</td>\n",
       "      <td>2020</td>\n",
       "      <td>1</td>\n",
       "      <td>2</td>\n",
       "      <td>Thursday</td>\n",
       "      <td>NaN</td>\n",
       "    </tr>\n",
       "    <tr>\n",
       "      <th>2</th>\n",
       "      <td>2020-01-03</td>\n",
       "      <td>32326.95</td>\n",
       "      <td>32329.80</td>\n",
       "      <td>31960.40</td>\n",
       "      <td>32069.25</td>\n",
       "      <td>217584385.0</td>\n",
       "      <td>4.537650e+10</td>\n",
       "      <td>40.68</td>\n",
       "      <td>3.34</td>\n",
       "      <td>0.31</td>\n",
       "      <td>32443.85</td>\n",
       "      <td>-1.15</td>\n",
       "      <td>1.15</td>\n",
       "      <td>2020</td>\n",
       "      <td>1</td>\n",
       "      <td>3</td>\n",
       "      <td>Friday</td>\n",
       "      <td>NaN</td>\n",
       "    </tr>\n",
       "    <tr>\n",
       "      <th>3</th>\n",
       "      <td>2020-01-06</td>\n",
       "      <td>31910.45</td>\n",
       "      <td>31914.45</td>\n",
       "      <td>31170.55</td>\n",
       "      <td>31237.15</td>\n",
       "      <td>256236748.0</td>\n",
       "      <td>5.048530e+10</td>\n",
       "      <td>39.62</td>\n",
       "      <td>3.29</td>\n",
       "      <td>0.32</td>\n",
       "      <td>32069.25</td>\n",
       "      <td>-2.59</td>\n",
       "      <td>2.59</td>\n",
       "      <td>2020</td>\n",
       "      <td>1</td>\n",
       "      <td>6</td>\n",
       "      <td>Monday</td>\n",
       "      <td>NaN</td>\n",
       "    </tr>\n",
       "    <tr>\n",
       "      <th>4</th>\n",
       "      <td>2020-01-07</td>\n",
       "      <td>31598.05</td>\n",
       "      <td>31851.45</td>\n",
       "      <td>31200.90</td>\n",
       "      <td>31399.40</td>\n",
       "      <td>294368120.0</td>\n",
       "      <td>6.636370e+10</td>\n",
       "      <td>39.83</td>\n",
       "      <td>3.31</td>\n",
       "      <td>0.32</td>\n",
       "      <td>31237.15</td>\n",
       "      <td>0.52</td>\n",
       "      <td>0.52</td>\n",
       "      <td>2020</td>\n",
       "      <td>1</td>\n",
       "      <td>7</td>\n",
       "      <td>Tuesday</td>\n",
       "      <td>NaN</td>\n",
       "    </tr>\n",
       "  </tbody>\n",
       "</table>\n",
       "</div>"
      ],
      "text/plain": [
       "        Date      Open      High       Low     Close       Volume  \\\n",
       "0 2020-01-01  32237.90  32348.00  32057.20  32102.90  184671555.0   \n",
       "1 2020-01-02  32133.15  32465.45  32121.40  32443.85  253558509.0   \n",
       "2 2020-01-03  32326.95  32329.80  31960.40  32069.25  217584385.0   \n",
       "3 2020-01-06  31910.45  31914.45  31170.55  31237.15  256236748.0   \n",
       "4 2020-01-07  31598.05  31851.45  31200.90  31399.40  294368120.0   \n",
       "\n",
       "       Turnover    P/E   P/B  Div Yield  Prev_close  percentage  \\\n",
       "0  3.183970e+10  40.73  3.35       0.31    32161.65       -0.18   \n",
       "1  4.310340e+10  41.16  3.38       0.30    32102.90        1.06   \n",
       "2  4.537650e+10  40.68  3.34       0.31    32443.85       -1.15   \n",
       "3  5.048530e+10  39.62  3.29       0.32    32069.25       -2.59   \n",
       "4  6.636370e+10  39.83  3.31       0.32    31237.15        0.52   \n",
       "\n",
       "   abs_percentage  year  Month  Day  dayOfWeek  sma_20  \n",
       "0            0.18  2020      1    1  Wednesday     NaN  \n",
       "1            1.06  2020      1    2   Thursday     NaN  \n",
       "2            1.15  2020      1    3     Friday     NaN  \n",
       "3            2.59  2020      1    6     Monday     NaN  \n",
       "4            0.52  2020      1    7    Tuesday     NaN  "
      ]
     },
     "execution_count": 64,
     "metadata": {},
     "output_type": "execute_result"
    }
   ],
   "source": [
    "# Simple Moving average\n",
    "def sma(data, window):\n",
    "    sma = data.rolling(window = window).mean()\n",
    "    return sma\n",
    "\n",
    "banknifty2020_df['sma_20'] = sma(banknifty2020_df['Close'], 20)\n",
    "banknifty2020_df.head()"
   ]
  },
  {
   "cell_type": "code",
   "execution_count": 65,
   "metadata": {
    "execution": {
     "iopub.execute_input": "2021-06-22T08:43:36.120210Z",
     "iopub.status.busy": "2021-06-22T08:43:36.119868Z",
     "iopub.status.idle": "2021-06-22T08:43:36.153402Z",
     "shell.execute_reply": "2021-06-22T08:43:36.152358Z",
     "shell.execute_reply.started": "2021-06-22T08:43:36.120181Z"
    }
   },
   "outputs": [
    {
     "data": {
      "text/html": [
       "<div>\n",
       "<style scoped>\n",
       "    .dataframe tbody tr th:only-of-type {\n",
       "        vertical-align: middle;\n",
       "    }\n",
       "\n",
       "    .dataframe tbody tr th {\n",
       "        vertical-align: top;\n",
       "    }\n",
       "\n",
       "    .dataframe thead th {\n",
       "        text-align: right;\n",
       "    }\n",
       "</style>\n",
       "<table border=\"1\" class=\"dataframe\">\n",
       "  <thead>\n",
       "    <tr style=\"text-align: right;\">\n",
       "      <th></th>\n",
       "      <th>Date</th>\n",
       "      <th>Open</th>\n",
       "      <th>High</th>\n",
       "      <th>Low</th>\n",
       "      <th>Close</th>\n",
       "      <th>Volume</th>\n",
       "      <th>Turnover</th>\n",
       "      <th>P/E</th>\n",
       "      <th>P/B</th>\n",
       "      <th>Div Yield</th>\n",
       "      <th>Prev_close</th>\n",
       "      <th>percentage</th>\n",
       "      <th>abs_percentage</th>\n",
       "      <th>year</th>\n",
       "      <th>Month</th>\n",
       "      <th>Day</th>\n",
       "      <th>dayOfWeek</th>\n",
       "      <th>sma_20</th>\n",
       "      <th>upper_bb</th>\n",
       "      <th>lower_bb</th>\n",
       "    </tr>\n",
       "  </thead>\n",
       "  <tbody>\n",
       "    <tr>\n",
       "      <th>0</th>\n",
       "      <td>2020-01-01</td>\n",
       "      <td>32237.90</td>\n",
       "      <td>32348.00</td>\n",
       "      <td>32057.20</td>\n",
       "      <td>32102.90</td>\n",
       "      <td>184671555.0</td>\n",
       "      <td>3.183970e+10</td>\n",
       "      <td>40.73</td>\n",
       "      <td>3.35</td>\n",
       "      <td>0.31</td>\n",
       "      <td>32161.65</td>\n",
       "      <td>-0.18</td>\n",
       "      <td>0.18</td>\n",
       "      <td>2020</td>\n",
       "      <td>1</td>\n",
       "      <td>1</td>\n",
       "      <td>Wednesday</td>\n",
       "      <td>NaN</td>\n",
       "      <td>NaN</td>\n",
       "      <td>NaN</td>\n",
       "    </tr>\n",
       "    <tr>\n",
       "      <th>1</th>\n",
       "      <td>2020-01-02</td>\n",
       "      <td>32133.15</td>\n",
       "      <td>32465.45</td>\n",
       "      <td>32121.40</td>\n",
       "      <td>32443.85</td>\n",
       "      <td>253558509.0</td>\n",
       "      <td>4.310340e+10</td>\n",
       "      <td>41.16</td>\n",
       "      <td>3.38</td>\n",
       "      <td>0.30</td>\n",
       "      <td>32102.90</td>\n",
       "      <td>1.06</td>\n",
       "      <td>1.06</td>\n",
       "      <td>2020</td>\n",
       "      <td>1</td>\n",
       "      <td>2</td>\n",
       "      <td>Thursday</td>\n",
       "      <td>NaN</td>\n",
       "      <td>NaN</td>\n",
       "      <td>NaN</td>\n",
       "    </tr>\n",
       "    <tr>\n",
       "      <th>2</th>\n",
       "      <td>2020-01-03</td>\n",
       "      <td>32326.95</td>\n",
       "      <td>32329.80</td>\n",
       "      <td>31960.40</td>\n",
       "      <td>32069.25</td>\n",
       "      <td>217584385.0</td>\n",
       "      <td>4.537650e+10</td>\n",
       "      <td>40.68</td>\n",
       "      <td>3.34</td>\n",
       "      <td>0.31</td>\n",
       "      <td>32443.85</td>\n",
       "      <td>-1.15</td>\n",
       "      <td>1.15</td>\n",
       "      <td>2020</td>\n",
       "      <td>1</td>\n",
       "      <td>3</td>\n",
       "      <td>Friday</td>\n",
       "      <td>NaN</td>\n",
       "      <td>NaN</td>\n",
       "      <td>NaN</td>\n",
       "    </tr>\n",
       "    <tr>\n",
       "      <th>3</th>\n",
       "      <td>2020-01-06</td>\n",
       "      <td>31910.45</td>\n",
       "      <td>31914.45</td>\n",
       "      <td>31170.55</td>\n",
       "      <td>31237.15</td>\n",
       "      <td>256236748.0</td>\n",
       "      <td>5.048530e+10</td>\n",
       "      <td>39.62</td>\n",
       "      <td>3.29</td>\n",
       "      <td>0.32</td>\n",
       "      <td>32069.25</td>\n",
       "      <td>-2.59</td>\n",
       "      <td>2.59</td>\n",
       "      <td>2020</td>\n",
       "      <td>1</td>\n",
       "      <td>6</td>\n",
       "      <td>Monday</td>\n",
       "      <td>NaN</td>\n",
       "      <td>NaN</td>\n",
       "      <td>NaN</td>\n",
       "    </tr>\n",
       "    <tr>\n",
       "      <th>4</th>\n",
       "      <td>2020-01-07</td>\n",
       "      <td>31598.05</td>\n",
       "      <td>31851.45</td>\n",
       "      <td>31200.90</td>\n",
       "      <td>31399.40</td>\n",
       "      <td>294368120.0</td>\n",
       "      <td>6.636370e+10</td>\n",
       "      <td>39.83</td>\n",
       "      <td>3.31</td>\n",
       "      <td>0.32</td>\n",
       "      <td>31237.15</td>\n",
       "      <td>0.52</td>\n",
       "      <td>0.52</td>\n",
       "      <td>2020</td>\n",
       "      <td>1</td>\n",
       "      <td>7</td>\n",
       "      <td>Tuesday</td>\n",
       "      <td>NaN</td>\n",
       "      <td>NaN</td>\n",
       "      <td>NaN</td>\n",
       "    </tr>\n",
       "  </tbody>\n",
       "</table>\n",
       "</div>"
      ],
      "text/plain": [
       "        Date      Open      High       Low     Close       Volume  \\\n",
       "0 2020-01-01  32237.90  32348.00  32057.20  32102.90  184671555.0   \n",
       "1 2020-01-02  32133.15  32465.45  32121.40  32443.85  253558509.0   \n",
       "2 2020-01-03  32326.95  32329.80  31960.40  32069.25  217584385.0   \n",
       "3 2020-01-06  31910.45  31914.45  31170.55  31237.15  256236748.0   \n",
       "4 2020-01-07  31598.05  31851.45  31200.90  31399.40  294368120.0   \n",
       "\n",
       "       Turnover    P/E   P/B  Div Yield  Prev_close  percentage  \\\n",
       "0  3.183970e+10  40.73  3.35       0.31    32161.65       -0.18   \n",
       "1  4.310340e+10  41.16  3.38       0.30    32102.90        1.06   \n",
       "2  4.537650e+10  40.68  3.34       0.31    32443.85       -1.15   \n",
       "3  5.048530e+10  39.62  3.29       0.32    32069.25       -2.59   \n",
       "4  6.636370e+10  39.83  3.31       0.32    31237.15        0.52   \n",
       "\n",
       "   abs_percentage  year  Month  Day  dayOfWeek  sma_20  upper_bb  lower_bb  \n",
       "0            0.18  2020      1    1  Wednesday     NaN       NaN       NaN  \n",
       "1            1.06  2020      1    2   Thursday     NaN       NaN       NaN  \n",
       "2            1.15  2020      1    3     Friday     NaN       NaN       NaN  \n",
       "3            2.59  2020      1    6     Monday     NaN       NaN       NaN  \n",
       "4            0.52  2020      1    7    Tuesday     NaN       NaN       NaN  "
      ]
     },
     "execution_count": 65,
     "metadata": {},
     "output_type": "execute_result"
    }
   ],
   "source": [
    "# Bollinger band (BB)\n",
    "def bb(data, sma, window):\n",
    "    std = data.rolling(window = window).std()\n",
    "    upper_bb = sma + std * 2\n",
    "    lower_bb = sma - std * 2\n",
    "    return upper_bb, lower_bb\n",
    "\n",
    "banknifty2020_df['upper_bb'], banknifty2020_df['lower_bb'] = bb(banknifty2020_df['Close'], banknifty2020_df['sma_20'], 20)\n",
    "banknifty2020_df.head(5)"
   ]
  },
  {
   "cell_type": "code",
   "execution_count": 66,
   "metadata": {
    "execution": {
     "iopub.execute_input": "2021-06-22T08:43:37.874186Z",
     "iopub.status.busy": "2021-06-22T08:43:37.873823Z",
     "iopub.status.idle": "2021-06-22T08:43:38.105475Z",
     "shell.execute_reply": "2021-06-22T08:43:38.104696Z",
     "shell.execute_reply.started": "2021-06-22T08:43:37.874155Z"
    }
   },
   "outputs": [
    {
     "data": {
      "image/png": "[encoded data removed]",
      "text/plain": [
       "<Figure size 864x432 with 1 Axes>"
      ]
     },
     "metadata": {
      "needs_background": "light"
     },
     "output_type": "display_data"
    }
   ],
   "source": [
    "#plot BB\n",
    "\n",
    "def plot_BB(date,Close, sma_20, upper_bb, lower_bb):\n",
    "    plt.figure(figsize=(12,6))\n",
    "    plt.plot(date,Close, color = 'blue', label = 'CLOSE PRICES', alpha = 0.7)\n",
    "    plt.plot(date,sma_20, label = 'MIDDLE BB', linewidth = 1.5, color = 'grey')\n",
    "    plt.plot(date,upper_bb,label = 'UPPER BB', linestyle = '--', linewidth = 1, color = 'black')\n",
    "    plt.plot(date, lower_bb,label = 'LOWER BB', linestyle = '--', linewidth = 1, color = 'black')\n",
    "    plt.legend(loc = 'upper right')\n",
    "    plt.title('BANK NIFTY BOLLINGER BANDS')\n",
    "\n",
    "plot_BB(banknifty2020_df['Date'], banknifty2020_df['Close'],banknifty2020_df['sma_20'],banknifty2020_df['upper_bb'],banknifty2020_df['lower_bb'])"
   ]
  },
  {
   "cell_type": "code",
   "execution_count": 67,
   "metadata": {
    "execution": {
     "iopub.execute_input": "2021-06-22T08:43:48.919102Z",
     "iopub.status.busy": "2021-06-22T08:43:48.918728Z",
     "iopub.status.idle": "2021-06-22T08:43:48.935977Z",
     "shell.execute_reply": "2021-06-22T08:43:48.934840Z",
     "shell.execute_reply.started": "2021-06-22T08:43:48.919070Z"
    }
   },
   "outputs": [],
   "source": [
    "def implement_bb_strategy(data, lower_bb, upper_bb):\n",
    "    buy_price = []\n",
    "    sell_price = []\n",
    "    bb_signal = []\n",
    "    signal = 0\n",
    "    for i in range(1,len(data)):\n",
    "        if data[i-1] < lower_bb[i-1] and data[i] > lower_bb[i]:\n",
    "            if signal != 1:\n",
    "                buy_price.append(data[i])\n",
    "                sell_price.append(np.nan)\n",
    "                signal = 1\n",
    "                bb_signal.append(signal)\n",
    "            else:\n",
    "                buy_price.append(np.nan)\n",
    "                sell_price.append(np.nan)\n",
    "                bb_signal.append(0)\n",
    "        elif data[i-1] > upper_bb[i-1] and data[i] < upper_bb[i]:\n",
    "            if signal != -1:\n",
    "                buy_price.append(np.nan)\n",
    "                sell_price.append(data[i])\n",
    "                signal = -1\n",
    "                bb_signal.append(signal)\n",
    "            else:\n",
    "                buy_price.append(np.nan)\n",
    "                sell_price.append(np.nan)\n",
    "                bb_signal.append(0)\n",
    "        else:\n",
    "            buy_price.append(np.nan)\n",
    "            sell_price.append(np.nan)\n",
    "            bb_signal.append(0)\n",
    "    buy_price.append(np.nan)\n",
    "    sell_price.append(np.nan)\n",
    "    bb_signal.append(0)\n",
    "            \n",
    "    return buy_price, sell_price, bb_signal\n",
    "\n",
    "buy_price, sell_price, bb_signal = implement_bb_strategy(banknifty2020_df['Close'], banknifty2020_df['lower_bb'], banknifty2020_df['upper_bb'])"
   ]
  },
  {
   "cell_type": "code",
   "execution_count": 69,
   "metadata": {
    "execution": {
     "iopub.execute_input": "2021-06-22T08:44:00.581692Z",
     "iopub.status.busy": "2021-06-22T08:44:00.581359Z",
     "iopub.status.idle": "2021-06-22T08:44:00.850608Z",
     "shell.execute_reply": "2021-06-22T08:44:00.849483Z",
     "shell.execute_reply.started": "2021-06-22T08:44:00.581663Z"
    }
   },
   "outputs": [
    {
     "data": {
      "image/png": "[encoded data removed]",
      "text/plain": [
       "<Figure size 864x432 with 1 Axes>"
      ]
     },
     "metadata": {
      "needs_background": "light"
     },
     "output_type": "display_data"
    }
   ],
   "source": [
    "def plot_BB_pred(date,Close, sma_20, upper_bb, lower_bb):\n",
    "    plt.figure(figsize=(12,6))\n",
    "    plt.plot(date,Close, color = 'blue', label = 'CLOSE PRICES', alpha = 0.7)\n",
    "    plt.plot(date,sma_20, label = 'MIDDLE BB', linewidth = 1.5, color = 'grey')\n",
    "    plt.plot(date,upper_bb,label = 'UPPER BB', linestyle = '--', linewidth = 1, color = 'black')\n",
    "    plt.plot(date, lower_bb,label = 'LOWER BB', linestyle = '--', linewidth = 1, color = 'black')\n",
    "    plt.scatter(date, buy_price, marker = '^', color = 'green', label = 'BUY', s = 200)\n",
    "    plt.scatter(date, sell_price, marker = 'v', color = 'red', label = 'SELL', s = 200)\n",
    "    plt.legend(loc = 'upper right')\n",
    "    plt.title('BANK NIFTY BOLLINGER BANDS')\n",
    "\n",
    "plot_BB_pred(banknifty2020_df['Date'], banknifty2020_df['Close'],banknifty2020_df['sma_20'],banknifty2020_df['upper_bb'],banknifty2020_df['lower_bb'])"
   ]
  },
  {
   "cell_type": "code",
   "execution_count": 70,
   "metadata": {
    "execution": {
     "iopub.execute_input": "2021-06-22T08:44:22.947531Z",
     "iopub.status.busy": "2021-06-22T08:44:22.947178Z",
     "iopub.status.idle": "2021-06-22T08:44:22.959134Z",
     "shell.execute_reply": "2021-06-22T08:44:22.957856Z",
     "shell.execute_reply.started": "2021-06-22T08:44:22.947502Z"
    }
   },
   "outputs": [],
   "source": [
    "\n",
    "def get_macd(price, slow, fast, smooth):\n",
    "    exp1 = price.ewm(span = fast, adjust = False).mean()\n",
    "    exp2 = price.ewm(span = slow, adjust = False).mean()\n",
    "    macd = exp1 - exp2\n",
    "    signal = macd.ewm(span = smooth, adjust = False).mean()\n",
    "    hist = macd - signal\n",
    "    return macd,signal,hist\n",
    "\n",
    "\n",
    "macd,signal,hist = get_macd(banknifty2020_df['Close'], 26, 12, 9)\n",
    "banknifty2020_df['macd']=macd\n",
    "banknifty2020_df['signal']=signal\n",
    "banknifty2020_df['hist']=hist\n"
   ]
  },
  {
   "cell_type": "code",
   "execution_count": 71,
   "metadata": {
    "execution": {
     "iopub.execute_input": "2021-06-22T08:44:29.768511Z",
     "iopub.status.busy": "2021-06-22T08:44:29.768169Z",
     "iopub.status.idle": "2021-06-22T08:44:30.544593Z",
     "shell.execute_reply": "2021-06-22T08:44:30.543602Z",
     "shell.execute_reply.started": "2021-06-22T08:44:29.768482Z"
    }
   },
   "outputs": [
    {
     "name": "stdout",
     "output_type": "stream",
     "text": [
      "234\n"
     ]
    },
    {
     "data": {
      "image/png": "[encoded data removed]",
      "text/plain": [
       "<Figure size 864x432 with 1 Axes>"
      ]
     },
     "metadata": {
      "needs_background": "light"
     },
     "output_type": "display_data"
    }
   ],
   "source": [
    "def plot_macd(date,prices, macd, signal, hist):\n",
    "    print(len(hist))\n",
    "    plt.figure(figsize=(12,6))\n",
    "    plt.plot(date,macd, color = 'blue', linewidth = 1.5, label = 'MACD')\n",
    "    plt.plot(date,signal, color = 'red', linewidth = 1.5, label = 'SIGNAL')\n",
    "    plt.bar(date, hist, color = 'blue', alpha=0.2)\n",
    "    plt.title(\"MACD\")\n",
    "    plt.legend()\n",
    "\n",
    "plot_macd(banknifty2020_df['Date'], banknifty2020_df['Close'],banknifty2020_df['macd'],banknifty2020_df['signal'],banknifty2020_df['hist'])"
   ]
  },
  {
   "cell_type": "code",
   "execution_count": 72,
   "metadata": {
    "execution": {
     "iopub.execute_input": "2021-06-22T08:44:35.938205Z",
     "iopub.status.busy": "2021-06-22T08:44:35.937848Z",
     "iopub.status.idle": "2021-06-22T08:44:35.957536Z",
     "shell.execute_reply": "2021-06-22T08:44:35.956179Z",
     "shell.execute_reply.started": "2021-06-22T08:44:35.938176Z"
    }
   },
   "outputs": [],
   "source": [
    "def implement_MACD_strategy(close,macd, signal_macd):\n",
    "    buy_price = []\n",
    "    sell_price = []\n",
    "    bb_signal = []\n",
    "    signal = 0\n",
    "    for i in range(1,len(macd)):\n",
    "        if macd[i-1] < signal_macd[i-1] and macd[i] > signal_macd[i]:\n",
    "            if signal != 1:\n",
    "                buy_price.append(close[i])\n",
    "                sell_price.append(np.nan)\n",
    "                signal = 1\n",
    "                bb_signal.append(signal)\n",
    "            else:\n",
    "                buy_price.append(np.nan)\n",
    "                sell_price.append(np.nan)\n",
    "                bb_signal.append(0)\n",
    "        elif macd[i-1] > signal_macd[i-1] and macd[i] < signal_macd[i]:\n",
    "            if signal != -1:\n",
    "                buy_price.append(np.nan)\n",
    "                sell_price.append(close[i])\n",
    "                signal = -1\n",
    "                bb_signal.append(signal)\n",
    "            else:\n",
    "                buy_price.append(np.nan)\n",
    "                sell_price.append(np.nan)\n",
    "                bb_signal.append(0)\n",
    "        else:\n",
    "            buy_price.append(np.nan)\n",
    "            sell_price.append(np.nan)\n",
    "            bb_signal.append(0)\n",
    "    buy_price.append(np.nan)\n",
    "    sell_price.append(np.nan)\n",
    "    bb_signal.append(0)\n",
    "\n",
    "    return buy_price, sell_price, bb_signal\n",
    "\n",
    "buy_price, sell_price, bb_signal = implement_MACD_strategy(banknifty2020_df['Close'], banknifty2020_df['macd'], banknifty2020_df['signal'])"
   ]
  },
  {
   "cell_type": "code",
   "execution_count": 73,
   "metadata": {
    "execution": {
     "iopub.execute_input": "2021-06-22T08:44:40.627623Z",
     "iopub.status.busy": "2021-06-22T08:44:40.627280Z",
     "iopub.status.idle": "2021-06-22T08:44:40.865965Z",
     "shell.execute_reply": "2021-06-22T08:44:40.865058Z",
     "shell.execute_reply.started": "2021-06-22T08:44:40.627594Z"
    }
   },
   "outputs": [
    {
     "data": {
      "image/png": "[encoded data removed]",
      "text/plain": [
       "<Figure size 864x432 with 1 Axes>"
      ]
     },
     "metadata": {
      "needs_background": "light"
     },
     "output_type": "display_data"
    }
   ],
   "source": [
    "def plot_macd(date,Close, macd, signal, hist):\n",
    "    plt.figure(figsize=(12,6))\n",
    "    plt.plot(date,Close, color = 'blue', label = 'CLOSE PRICES', alpha = 0.7)\n",
    "    plt.scatter(date, buy_price, marker = '^', color = 'green', label = 'BUY', s = 100)\n",
    "    plt.scatter(date, sell_price, marker = 'v', color = 'red', label = 'SELL', s = 100)\n",
    "    plt.title(\"MACD Prediction signal\")\n",
    "    plt.legend()\n",
    "\n",
    "plot_macd(banknifty2020_df['Date'], banknifty2020_df['Close'],banknifty2020_df['macd'],banknifty2020_df['signal'],banknifty2020_df['hist'])"
   ]
  },
  {
   "cell_type": "code",
   "execution_count": 81,
   "metadata": {
    "execution": {
     "iopub.execute_input": "2021-06-22T08:48:24.372968Z",
     "iopub.status.busy": "2021-06-22T08:48:24.372587Z",
     "iopub.status.idle": "2021-06-22T08:48:24.379099Z",
     "shell.execute_reply": "2021-06-22T08:48:24.377855Z",
     "shell.execute_reply.started": "2021-06-22T08:48:24.372937Z"
    }
   },
   "outputs": [],
   "source": [
    "# MinMaxScaler\n",
    "from sklearn.preprocessing import MinMaxScaler\n",
    "scaler=MinMaxScaler(feature_range=(0,1))\n",
    "bankniftyClose_df=scaler.fit_transform(np.array(banknifty_df['Close']).reshape(-1,1))"
   ]
  },
  {
   "cell_type": "code",
   "execution_count": 82,
   "metadata": {
    "execution": {
     "iopub.execute_input": "2021-06-22T08:48:26.097342Z",
     "iopub.status.busy": "2021-06-22T08:48:26.096992Z",
     "iopub.status.idle": "2021-06-22T08:48:26.102340Z",
     "shell.execute_reply": "2021-06-22T08:48:26.101282Z",
     "shell.execute_reply.started": "2021-06-22T08:48:26.097313Z"
    }
   },
   "outputs": [],
   "source": [
    "#splitting dataset into train and test split\n",
    "training_size=int(len(bankniftyClose_df)*0.9)\n",
    "test_size=len(bankniftyClose_df)-training_size\n",
    "train_data,test_data=bankniftyClose_df[0:training_size,:],bankniftyClose_df[training_size:len(bankniftyClose_df),:1]"
   ]
  },
  {
   "cell_type": "code",
   "execution_count": 83,
   "metadata": {
    "execution": {
     "iopub.execute_input": "2021-06-22T08:48:33.424776Z",
     "iopub.status.busy": "2021-06-22T08:48:33.424432Z",
     "iopub.status.idle": "2021-06-22T08:48:33.430780Z",
     "shell.execute_reply": "2021-06-22T08:48:33.429456Z",
     "shell.execute_reply.started": "2021-06-22T08:48:33.424722Z"
    }
   },
   "outputs": [],
   "source": [
    "\n",
    "def create_dataset(dataset, time_step=1):\n",
    "    dataX, dataY = [], []\n",
    "    for i in range(len(dataset)-time_step-1):\n",
    "        a = dataset[i:(i+time_step), 0]   ###i=0, 0,1,2,3-----99   100 \n",
    "        dataX.append(a)\n",
    "        dataY.append(dataset[i + time_step, 0])\n",
    "    return np.array(dataX), np.array(dataY)"
   ]
  },
  {
   "cell_type": "code",
   "execution_count": 85,
   "metadata": {
    "execution": {
     "iopub.execute_input": "2021-06-22T08:48:51.533061Z",
     "iopub.status.busy": "2021-06-22T08:48:51.532698Z",
     "iopub.status.idle": "2021-06-22T08:48:51.550151Z",
     "shell.execute_reply": "2021-06-22T08:48:51.549224Z",
     "shell.execute_reply.started": "2021-06-22T08:48:51.533031Z"
    }
   },
   "outputs": [
    {
     "name": "stdout",
     "output_type": "stream",
     "text": [
      "(3229, 100)\n",
      "(3229,)\n",
      "(269, 100)\n",
      "(269,)\n"
     ]
    }
   ],
   "source": [
    "# reshape into X=t,t+1,t+2,t+3 and Y=t+4\n",
    "time_step = 100\n",
    "X_train, y_train = create_dataset(train_data, time_step)\n",
    "X_test, y_test = create_dataset(test_data, time_step)\n",
    "print(X_train.shape)\n",
    "print(y_train.shape)\n",
    "\n",
    "print(X_test.shape)\n",
    "print(y_test.shape)"
   ]
  },
  {
   "cell_type": "code",
   "execution_count": 86,
   "metadata": {
    "execution": {
     "iopub.execute_input": "2021-06-22T08:48:59.588075Z",
     "iopub.status.busy": "2021-06-22T08:48:59.587720Z",
     "iopub.status.idle": "2021-06-22T08:48:59.593471Z",
     "shell.execute_reply": "2021-06-22T08:48:59.592268Z",
     "shell.execute_reply.started": "2021-06-22T08:48:59.588043Z"
    }
   },
   "outputs": [],
   "source": [
    "# reshape input to be [samples, time steps, features] which is required for LSTM\n",
    "X_train =X_train.reshape(X_train.shape[0],X_train.shape[1] , 1)\n",
    "X_test = X_test.reshape(X_test.shape[0],X_test.shape[1] , 1)"
   ]
  },
  {
   "cell_type": "code",
   "execution_count": 87,
   "metadata": {
    "execution": {
     "iopub.execute_input": "2021-06-22T08:49:09.028468Z",
     "iopub.status.busy": "2021-06-22T08:49:09.027794Z",
     "iopub.status.idle": "2021-06-22T08:49:14.645495Z",
     "shell.execute_reply": "2021-06-22T08:49:14.644702Z",
     "shell.execute_reply.started": "2021-06-22T08:49:09.028420Z"
    }
   },
   "outputs": [],
   "source": [
    "# Create the Stacked LSTM model\n",
    "import tensorflow as tf\n",
    "from tensorflow.keras.models import Sequential\n",
    "from tensorflow.keras.layers import Dense\n",
    "from tensorflow.keras.layers import LSTM"
   ]
  },
  {
   "cell_type": "code",
   "execution_count": 88,
   "metadata": {
    "execution": {
     "iopub.execute_input": "2021-06-22T08:49:14.793377Z",
     "iopub.status.busy": "2021-06-22T08:49:14.793027Z",
     "iopub.status.idle": "2021-06-22T08:49:15.658981Z",
     "shell.execute_reply": "2021-06-22T08:49:15.657958Z",
     "shell.execute_reply.started": "2021-06-22T08:49:14.793347Z"
    }
   },
   "outputs": [
    {
     "name": "stdout",
     "output_type": "stream",
     "text": [
      "Model: \"sequential\"\n",
      "_________________________________________________________________\n",
      "Layer (type)                 Output Shape              Param #   \n",
      "=================================================================\n",
      "lstm (LSTM)                  (None, 100, 50)           10400     \n",
      "_________________________________________________________________\n",
      "lstm_1 (LSTM)                (None, 100, 50)           20200     \n",
      "_________________________________________________________________\n",
      "lstm_2 (LSTM)                (None, 50)                20200     \n",
      "_________________________________________________________________\n",
      "dense (Dense)                (None, 1)                 51        \n",
      "=================================================================\n",
      "Total params: 50,851\n",
      "Trainable params: 50,851\n",
      "Non-trainable params: 0\n",
      "_________________________________________________________________\n"
     ]
    }
   ],
   "source": [
    "model=Sequential()\n",
    "model.add(LSTM(50,return_sequences=True,input_shape=(100,1)))\n",
    "model.add(LSTM(50,return_sequences=True))\n",
    "model.add(LSTM(50))\n",
    "model.add(Dense(1))\n",
    "model.compile(loss='mean_squared_error',optimizer='adam')\n",
    "model.summary()"
   ]
  },
  {
   "cell_type": "code",
   "execution_count": 89,
   "metadata": {
    "execution": {
     "iopub.execute_input": "2021-06-22T08:49:31.758869Z",
     "iopub.status.busy": "2021-06-22T08:49:31.758491Z",
     "iopub.status.idle": "2021-06-22T09:04:52.884453Z",
     "shell.execute_reply": "2021-06-22T09:04:52.883597Z",
     "shell.execute_reply.started": "2021-06-22T08:49:31.758833Z"
    }
   },
   "outputs": [
    {
     "name": "stdout",
     "output_type": "stream",
     "text": [
      "Epoch 1/100\n",
      "51/51 [==============================] - 15s 201ms/step - loss: 0.0448 - val_loss: 0.0065\n",
      "Epoch 2/100\n",
      "51/51 [==============================] - 9s 174ms/step - loss: 5.8472e-04 - val_loss: 0.0061\n",
      "Epoch 3/100\n",
      "51/51 [==============================] - 9s 177ms/step - loss: 4.7420e-04 - val_loss: 0.0059\n",
      "Epoch 4/100\n",
      "51/51 [==============================] - 9s 179ms/step - loss: 4.5772e-04 - val_loss: 0.0058\n",
      "Epoch 5/100\n",
      "51/51 [==============================] - 9s 178ms/step - loss: 4.3424e-04 - val_loss: 0.0056\n",
      "Epoch 6/100\n",
      "51/51 [==============================] - 9s 182ms/step - loss: 4.4803e-04 - val_loss: 0.0054\n",
      "Epoch 7/100\n",
      "51/51 [==============================] - 9s 178ms/step - loss: 4.2239e-04 - val_loss: 0.0049\n",
      "Epoch 8/100\n",
      "51/51 [==============================] - 9s 178ms/step - loss: 4.1715e-04 - val_loss: 0.0046\n",
      "Epoch 9/100\n",
      "51/51 [==============================] - 9s 178ms/step - loss: 3.8402e-04 - val_loss: 0.0044\n",
      "Epoch 10/100\n",
      "51/51 [==============================] - 9s 182ms/step - loss: 3.9092e-04 - val_loss: 0.0043\n",
      "Epoch 11/100\n",
      "51/51 [==============================] - 9s 179ms/step - loss: 3.6006e-04 - val_loss: 0.0039\n",
      "Epoch 12/100\n",
      "51/51 [==============================] - 9s 177ms/step - loss: 3.4256e-04 - val_loss: 0.0035\n",
      "Epoch 13/100\n",
      "51/51 [==============================] - 9s 181ms/step - loss: 3.4557e-04 - val_loss: 0.0033\n",
      "Epoch 14/100\n",
      "51/51 [==============================] - 9s 174ms/step - loss: 3.0800e-04 - val_loss: 0.0030\n",
      "51/51 [==============================] - 9s 179ms/step - loss: 2.7982e-04 - val_loss: 0.0027\n",
      "Epoch 18/100\n",
      "51/51 [==============================] - 9s 174ms/step - loss: 2.8628e-04 - val_loss: 0.0024\n",
      "Epoch 19/100\n",
      "51/51 [==============================] - 9s 181ms/step - loss: 2.7999e-04 - val_loss: 0.0025\n",
      "Epoch 20/100\n",
      "51/51 [==============================] - 9s 178ms/step - loss: 2.8795e-04 - val_loss: 0.0022\n",
      "Epoch 21/100\n",
      "51/51 [==============================] - 9s 182ms/step - loss: 2.5305e-04 - val_loss: 0.0023\n",
      "Epoch 22/100\n",
      "51/51 [==============================] - 9s 176ms/step - loss: 3.0224e-04 - val_loss: 0.0019\n",
      "Epoch 23/100\n",
      "51/51 [==============================] - 9s 176ms/step - loss: 2.4368e-04 - val_loss: 0.0019\n",
      "Epoch 24/100\n",
      "51/51 [==============================] - 9s 180ms/step - loss: 2.5286e-04 - val_loss: 0.0017\n",
      "Epoch 25/100\n",
      "51/51 [==============================] - 9s 178ms/step - loss: 2.3683e-04 - val_loss: 0.0017\n",
      "Epoch 26/100\n",
      "51/51 [==============================] - 9s 176ms/step - loss: 2.4910e-04 - val_loss: 0.0016\n",
      "Epoch 27/100\n",
      "51/51 [==============================] - 9s 179ms/step - loss: 2.3360e-04 - val_loss: 0.0017\n",
      "Epoch 28/100\n",
      "51/51 [==============================] - 9s 184ms/step - loss: 2.2471e-04 - val_loss: 0.0016\n",
      "Epoch 29/100\n",
      "51/51 [==============================] - 9s 179ms/step - loss: 2.0241e-04 - val_loss: 0.0014\n",
      "Epoch 30/100\n",
      "51/51 [==============================] - 9s 179ms/step - loss: 2.1589e-04 - val_loss: 0.0014\n",
      "Epoch 31/100\n",
      "51/51 [==============================] - 9s 181ms/step - loss: 2.0214e-04 - val_loss: 0.0013\n",
      "Epoch 32/100\n",
      "51/51 [==============================] - 9s 178ms/step - loss: 1.8678e-04 - val_loss: 0.0013\n",
      "Epoch 33/100\n",
      "51/51 [==============================] - 9s 179ms/step - loss: 1.8891e-04 - val_loss: 0.0012\n",
      "Epoch 34/100\n",
      "51/51 [==============================] - 9s 179ms/step - loss: 2.4487e-04 - val_loss: 0.0013\n",
      "Epoch 35/100\n",
      "51/51 [==============================] - 9s 184ms/step - loss: 1.8973e-04 - val_loss: 0.0012\n",
      "Epoch 36/100\n",
      "51/51 [==============================] - 9s 178ms/step - loss: 1.7554e-04 - val_loss: 0.0011\n",
      "Epoch 37/100\n",
      "51/51 [==============================] - 9s 175ms/step - loss: 1.5859e-04 - val_loss: 0.0010\n",
      "Epoch 38/100\n",
      "51/51 [==============================] - 9s 176ms/step - loss: 1.6819e-04 - val_loss: 0.0010\n",
      "Epoch 39/100\n",
      "51/51 [==============================] - 9s 181ms/step - loss: 1.6122e-04 - val_loss: 0.0012\n",
      "Epoch 40/100\n",
      "51/51 [==============================] - 9s 178ms/step - loss: 1.8853e-04 - val_loss: 0.0011\n",
      "Epoch 41/100\n",
      "51/51 [==============================] - 9s 177ms/step - loss: 1.4980e-04 - val_loss: 9.4757e-04\n",
      "Epoch 42/100\n",
      "51/51 [==============================] - 9s 181ms/step - loss: 1.8166e-04 - val_loss: 0.0012\n",
      "Epoch 43/100\n",
      "51/51 [==============================] - 9s 173ms/step - loss: 1.4344e-04 - val_loss: 8.5863e-04\n",
      "Epoch 45/100\n",
      "51/51 [==============================] - 9s 175ms/step - loss: 1.3400e-04 - val_loss: 8.1506e-04\n",
      "Epoch 46/100\n",
      "51/51 [==============================] - 9s 176ms/step - loss: 1.2874e-04 - val_loss: 7.7030e-04\n",
      "Epoch 47/100\n",
      "51/51 [==============================] - 9s 182ms/step - loss: 1.4497e-04 - val_loss: 9.0167e-04\n",
      "Epoch 48/100\n",
      "51/51 [==============================] - 9s 179ms/step - loss: 1.3789e-04 - val_loss: 7.6885e-04\n",
      "Epoch 49/100\n",
      "51/51 [==============================] - 9s 175ms/step - loss: 1.0825e-04 - val_loss: 8.0505e-04\n",
      "Epoch 50/100\n",
      "51/51 [==============================] - 9s 174ms/step - loss: 1.2616e-04 - val_loss: 7.4763e-04\n",
      "Epoch 51/100\n",
      "51/51 [==============================] - 9s 181ms/step - loss: 1.1069e-04 - val_loss: 6.7614e-04\n",
      "Epoch 52/100\n",
      "51/51 [==============================] - 9s 180ms/step - loss: 1.3326e-04 - val_loss: 6.3823e-04\n",
      "Epoch 53/100\n",
      "51/51 [==============================] - 9s 183ms/step - loss: 1.1883e-04 - val_loss: 6.8573e-04\n",
      "Epoch 54/100\n",
      "51/51 [==============================] - 9s 180ms/step - loss: 1.4224e-04 - val_loss: 6.3990e-04\n",
      "Epoch 55/100\n",
      "51/51 [==============================] - 9s 183ms/step - loss: 1.0926e-04 - val_loss: 5.8374e-04\n",
      "Epoch 56/100\n",
      "51/51 [==============================] - 9s 181ms/step - loss: 1.0273e-04 - val_loss: 6.1437e-04\n",
      "Epoch 57/100\n",
      "51/51 [==============================] - 9s 176ms/step - loss: 1.0705e-04 - val_loss: 5.9724e-04\n",
      "Epoch 58/100\n",
      "51/51 [==============================] - 9s 182ms/step - loss: 9.8891e-05 - val_loss: 5.3403e-04\n",
      "Epoch 59/100\n",
      "51/51 [==============================] - 9s 176ms/step - loss: 8.5718e-05 - val_loss: 5.8146e-04\n",
      "Epoch 60/100\n",
      "51/51 [==============================] - 9s 176ms/step - loss: 9.6403e-05 - val_loss: 5.7270e-04\n",
      "Epoch 61/100\n",
      "51/51 [==============================] - 9s 176ms/step - loss: 1.0761e-04 - val_loss: 5.7997e-04\n",
      "Epoch 62/100\n",
      "51/51 [==============================] - 9s 180ms/step - loss: 8.7749e-05 - val_loss: 6.0873e-04\n",
      "Epoch 63/100\n",
      "51/51 [==============================] - 9s 178ms/step - loss: 9.4630e-05 - val_loss: 4.9307e-04\n",
      "Epoch 64/100\n",
      "51/51 [==============================] - 9s 179ms/step - loss: 1.0489e-04 - val_loss: 5.3731e-04\n",
      "Epoch 65/100\n",
      "51/51 [==============================] - 9s 182ms/step - loss: 9.0627e-05 - val_loss: 5.5839e-04\n",
      "Epoch 66/100\n",
      "51/51 [==============================] - 9s 181ms/step - loss: 1.1050e-04 - val_loss: 5.2824e-04\n",
      "Epoch 67/100\n",
      "51/51 [==============================] - 9s 181ms/step - loss: 9.2642e-05 - val_loss: 6.2140e-04\n",
      "Epoch 68/100\n",
      "51/51 [==============================] - 9s 182ms/step - loss: 9.7309e-05 - val_loss: 6.7848e-04\n",
      "Epoch 69/100\n",
      "51/51 [==============================] - 10s 190ms/step - loss: 8.2558e-05 - val_loss: 5.2801e-04\n",
      "Epoch 70/100\n",
      "51/51 [==============================] - 9s 181ms/step - loss: 9.0833e-05 - val_loss: 4.6230e-04\n",
      "Epoch 71/100\n",
      "51/51 [==============================] - 9s 181ms/step - loss: 1.1114e-04 - val_loss: 6.4538e-04\n",
      "Epoch 72/100\n",
      "51/51 [==============================] - 9s 184ms/step - loss: 8.1632e-05 - val_loss: 4.5502e-04\n",
      "Epoch 73/100\n",
      "51/51 [==============================] - 9s 178ms/step - loss: 7.6909e-05 - val_loss: 4.8821e-04\n",
      "Epoch 74/100\n",
      "51/51 [==============================] - 9s 181ms/step - loss: 8.6329e-05 - val_loss: 5.5815e-04\n",
      "Epoch 75/100\n",
      "51/51 [==============================] - 9s 179ms/step - loss: 8.7901e-05 - val_loss: 4.6575e-04\n",
      "Epoch 76/100\n",
      "51/51 [==============================] - 9s 184ms/step - loss: 7.2290e-05 - val_loss: 4.3699e-04\n",
      "Epoch 77/100\n",
      "51/51 [==============================] - 9s 180ms/step - loss: 7.2260e-05 - val_loss: 4.9338e-04\n",
      "Epoch 78/100\n",
      "51/51 [==============================] - 9s 179ms/step - loss: 6.9569e-05 - val_loss: 4.2644e-04\n",
      "Epoch 79/100\n",
      "51/51 [==============================] - 9s 178ms/step - loss: 6.8953e-05 - val_loss: 5.2597e-04\n",
      "Epoch 80/100\n",
      "51/51 [==============================] - 9s 185ms/step - loss: 7.3453e-05 - val_loss: 5.6046e-04\n",
      "Epoch 81/100\n",
      "51/51 [==============================] - 9s 185ms/step - loss: 9.9628e-05 - val_loss: 4.2376e-04\n",
      "Epoch 82/100\n",
      "51/51 [==============================] - 9s 181ms/step - loss: 6.4686e-05 - val_loss: 4.2571e-04\n",
      "Epoch 83/100\n",
      "51/51 [==============================] - 9s 186ms/step - loss: 6.4413e-05 - val_loss: 5.4134e-04\n",
      "Epoch 84/100\n",
      "51/51 [==============================] - 9s 180ms/step - loss: 1.1613e-04 - val_loss: 4.1532e-04\n",
      "Epoch 85/100\n",
      "51/51 [==============================] - 9s 181ms/step - loss: 5.8558e-05 - val_loss: 4.3147e-04\n",
      "Epoch 86/100\n",
      "51/51 [==============================] - 9s 181ms/step - loss: 6.0710e-05 - val_loss: 4.2308e-04\n",
      "Epoch 87/100\n",
      "51/51 [==============================] - 10s 188ms/step - loss: 6.6087e-05 - val_loss: 5.2257e-04\n",
      "Epoch 88/100\n",
      "51/51 [==============================] - 9s 177ms/step - loss: 7.0274e-05 - val_loss: 4.4239e-04\n",
      "Epoch 89/100\n",
      "51/51 [==============================] - 9s 179ms/step - loss: 6.2719e-05 - val_loss: 4.2365e-04\n",
      "Epoch 90/100\n",
      "51/51 [==============================] - 9s 182ms/step - loss: 5.9074e-05 - val_loss: 5.3607e-04\n",
      "Epoch 91/100\n",
      "51/51 [==============================] - 9s 182ms/step - loss: 7.3610e-05 - val_loss: 4.1173e-04\n",
      "Epoch 92/100\n",
      "51/51 [==============================] - 9s 180ms/step - loss: 6.5597e-05 - val_loss: 4.3301e-04\n",
      "Epoch 93/100\n",
      "51/51 [==============================] - 9s 179ms/step - loss: 6.1443e-05 - val_loss: 4.1951e-04\n",
      "Epoch 94/100\n",
      "51/51 [==============================] - 9s 185ms/step - loss: 6.0161e-05 - val_loss: 4.6755e-04\n",
      "Epoch 95/100\n",
      "51/51 [==============================] - 9s 183ms/step - loss: 5.7262e-05 - val_loss: 4.2868e-04\n",
      "Epoch 96/100\n",
      "51/51 [==============================] - 9s 178ms/step - loss: 5.5896e-05 - val_loss: 4.7100e-04\n",
      "Epoch 97/100\n",
      "51/51 [==============================] - 9s 181ms/step - loss: 7.7338e-05 - val_loss: 4.4461e-04\n",
      "Epoch 98/100\n",
      "51/51 [==============================] - 9s 180ms/step - loss: 7.4723e-05 - val_loss: 7.2638e-04\n",
      "Epoch 99/100\n",
      "51/51 [==============================] - 9s 180ms/step - loss: 8.6005e-05 - val_loss: 4.3291e-04\n",
      "Epoch 100/100\n",
      "51/51 [==============================] - 9s 183ms/step - loss: 6.1621e-05 - val_loss: 7.1342e-04\n"
     ]
    },
    {
     "data": {
      "text/plain": [
       "<tensorflow.python.keras.callbacks.History at 0x7fe77444c290>"
      ]
     },
     "execution_count": 89,
     "metadata": {},
     "output_type": "execute_result"
    }
   ],
   "source": [
    "model.fit(X_train,y_train,validation_data=(X_test,y_test),epochs=100,batch_size=64,verbose=1)"
   ]
  },
  {
   "cell_type": "code",
   "execution_count": 93,
   "metadata": {
    "execution": {
     "iopub.execute_input": "2021-06-22T09:11:34.049032Z",
     "iopub.status.busy": "2021-06-22T09:11:34.048673Z",
     "iopub.status.idle": "2021-06-22T09:11:38.986243Z",
     "shell.execute_reply": "2021-06-22T09:11:38.985235Z",
     "shell.execute_reply.started": "2021-06-22T09:11:34.049003Z"
    }
   },
   "outputs": [],
   "source": [
    "# Lets Do the prediction and check performance metrics\n",
    "train_predict=model.predict(X_train)\n",
    "test_predict=model.predict(X_test)"
   ]
  },
  {
   "cell_type": "code",
   "execution_count": 94,
   "metadata": {
    "execution": {
     "iopub.execute_input": "2021-06-22T09:11:44.483274Z",
     "iopub.status.busy": "2021-06-22T09:11:44.482932Z",
     "iopub.status.idle": "2021-06-22T09:11:44.488529Z",
     "shell.execute_reply": "2021-06-22T09:11:44.487631Z",
     "shell.execute_reply.started": "2021-06-22T09:11:44.483245Z"
    }
   },
   "outputs": [],
   "source": [
    "# Transformback to original form\n",
    "train_predict=scaler.inverse_transform(train_predict)\n",
    "test_predict=scaler.inverse_transform(test_predict)"
   ]
  },
  {
   "cell_type": "code",
   "execution_count": 98,
   "metadata": {
    "execution": {
     "iopub.execute_input": "2021-06-22T09:12:54.248365Z",
     "iopub.status.busy": "2021-06-22T09:12:54.247864Z",
     "iopub.status.idle": "2021-06-22T09:12:54.254570Z",
     "shell.execute_reply": "2021-06-22T09:12:54.253688Z",
     "shell.execute_reply.started": "2021-06-22T09:12:54.248335Z"
    }
   },
   "outputs": [
    {
     "name": "stdout",
     "output_type": "stream",
     "text": [
      "Train data RMSE:  15003.893929550673\n",
      "Test data RMSE:  25042.457140277693\n"
     ]
    }
   ],
   "source": [
    "# Calculate RMSE performance metrics\n",
    "from sklearn.metrics import mean_squared_error\n",
    "print(\"Train data RMSE: \",mean_squared_error(y_train,train_predict, squared=False))\n",
    "# Test Data RMSE\n",
    "print(\"Test data RMSE: \",mean_squared_error(y_test,test_predict, squared=False))"
   ]
  },
  {
   "cell_type": "code",
   "execution_count": 104,
   "metadata": {
    "execution": {
     "iopub.execute_input": "2021-06-22T09:32:51.848531Z",
     "iopub.status.busy": "2021-06-22T09:32:51.848188Z",
     "iopub.status.idle": "2021-06-22T09:32:52.051910Z",
     "shell.execute_reply": "2021-06-22T09:32:52.050775Z",
     "shell.execute_reply.started": "2021-06-22T09:32:51.848502Z"
    }
   },
   "outputs": [
    {
     "data": {
      "image/png": "[encoded data removed]",
      "text/plain": [
       "<Figure size 864x432 with 1 Axes>"
      ]
     },
     "metadata": {
      "needs_background": "light"
     },
     "output_type": "display_data"
    }
   ],
   "source": [
    "### Plotting \n",
    "# shift train predictions for plotting\n",
    "plt.figure(figsize=(12,6))\n",
    "look_back=100\n",
    "trainPredictPlot = np.empty_like(bankniftyClose_df)\n",
    "trainPredictPlot[:, :] = np.nan\n",
    "trainPredictPlot[look_back:len(train_predict)+look_back, :] = train_predict\n",
    "# shift test predictions for plotting\n",
    "testPredictPlot = np.empty_like(bankniftyClose_df)\n",
    "testPredictPlot[:, :] = np.nan\n",
    "testPredictPlot[len(train_predict)+(look_back*2)+1:len(bankniftyClose_df)-1, :] = test_predict\n",
    "# plot baseline and predictions\n",
    "plt.plot(scaler.inverse_transform(bankniftyClose_df),label=\"Close price\")\n",
    "plt.plot(trainPredictPlot,label=\"Train\")\n",
    "plt.plot(testPredictPlot,label=\"Test\")\n",
    "plt.legend()\n",
    "plt.show()"
   ]
  }
 ],
 "metadata": {
  "kernelspec": {
   "display_name": "Python 3",
   "language": "python",
   "name": "python3"
  },
  "language_info": {
   "codemirror_mode": {
    "name": "ipython",
    "version": 3
   },
   "file_extension": ".py",
   "mimetype": "text/x-python",
   "name": "python",
   "nbconvert_exporter": "python",
   "pygments_lexer": "ipython3",
   "version": "3.7.10"
  }
 },
 "nbformat": 4,
 "nbformat_minor": 4
}
